{
 "cells": [
  {
   "cell_type": "markdown",
   "metadata": {},
   "source": [
    "Olivier Rubel, PhD\n",
    "\n",
    "Associate Professor of Marketing\n",
    "\n",
    "UC Davis\n",
    "\n",
    "Analytical Decision Making -- MSBA Program\n",
    "\n",
    "\n",
    "Date: April, 2018"
   ]
  },
  {
   "cell_type": "markdown",
   "metadata": {},
   "source": [
    "# One Retailing: Designing  a Supply Chain\n",
    "\n",
    "Online retailing companies such as Amazon need to have access to a huge network of inventories in\n",
    "various locations in order to ship their products in a timely fashion to their customers. In the last few\n",
    "years, due to the expansion of the services such as (Amazon Prime) and the introduction of new\n",
    "services (such as Amazon Prime Now), the importance of effectively selecting the location of new\n",
    "warehouses and/or choosing the right local warehouse to work with has dramatically increased.\n",
    "\n",
    "Because of the emerging demand, Amazon decided to start new warehouses in the Gulf Coast. Based\n",
    "on their studies, four potential locations for warehouses have been identified, each of which having a\n",
    "specific capacity and also a specific average cost-per-unit for shipping to any of the five Gulf Coast\n",
    "states. The capacity of each warehouse and its operating cost, in addition to the average cost-per-unit\n",
    "for shipping a product to any of the states are given in the following table.\n",
    "\n",
    "\n",
    "|  | TX | LA | MS| AL | FL |Ops. Cost | Capacity         \n",
    "| :---:|:---: | :---:|:---:|:---: | :---:|:---: | :---:\n",
    "|WH 1|\\$2.00|\\$4.00|\\$3.00|\\$2.50|\\$1.50|\\$10,000|14,000\n",
    "|WH 2|\\$3.00|\\$2.50|\\$3.75|\\$2.00|\\$1.75|\\$18,000|18,000\n",
    "|WH 3|\\$2.75|\\$2.00|\\$3.25|\\$3.00|\\$4.00|\\$7,000|16,500\n",
    "|WH 4|\\$1.25|\\$1.75|\\$4.00|\\$3.50|\\$3.00|\\$12,000|16,000\n",
    "\n",
    "The average demand for each of the states is given in this table.\n",
    "\n",
    "| (In Units) | TX | LA | MS| AL | FL |\n",
    "| :---:|:---: | :---:|:---:|:---: | :---:\n",
    "|Demand| 8,000 |3,500|4,000|2,000|7,000\n",
    "\n",
    "Questions:\n",
    "* Given the data above, what is the minimum total cost Amazon's supply chain?\n",
    "* Which warehouses should Amazon operate to meet demand in the most cost-effective way?\n",
    "\n",
    "This type of problems are called \"facility location problem\" \n",
    "\n",
    "### More information on this problem\n",
    "* http://examples.gurobi.com/facility-location/)\n",
    "* https://www.sciencedirect.com/science/article/abs/pii/S0377221703008191\n",
    "* https://optimization.mccormick.northwestern.edu/index.php/Facility_location_problems"
   ]
  },
  {
   "cell_type": "markdown",
   "metadata": {},
   "source": [
    " # Modeling\n",
    "\n",
    "\n",
    " \n",
    " ### What are the decision variables?\n",
    " \n",
    "\n",
    "  ### What are the constraints?\n",
    " \n",
    " \n",
    " \n",
    " ### What is the objective function?\n",
    " \n",
    " "
   ]
  },
  {
   "cell_type": "markdown",
   "metadata": {},
   "source": [
    "Recall that\n",
    "\n",
    "|  | TX | LA | MS| AL | FL |Ops. Cost | Capacity         \n",
    "| :---:|:---: | :---:|:---:|:---: | :---:|:---: | :---:\n",
    "|WH 1|\\$2.00|\\$4.00|\\$3.00|\\$2.50|\\$1.50|\\$10,000|14,000\n",
    "|WH 2|\\$3.00|\\$2.50|\\$3.75|\\$2.00|\\$1.75|\\$18,000|18,000\n",
    "|WH 3|\\$2.75|\\$2.00|\\$3.25|\\$3.00|\\$4.00|\\$7,000|16,500\n",
    "|WH 4|\\$1.25|\\$1.75|\\$4.00|\\$3.50|\\$3.00|\\$12,000|16,000\n",
    "\n",
    "The average demand for each of the states is given in this table.\n",
    "\n",
    "| (In Units) | TX | LA | MS| AL | FL |\n",
    "| :---:|:---: | :---:|:---:|:---: | :---:\n",
    "|Demand| 8,000 |3,500|4,000|2,000|7,000"
   ]
  },
  {
   "cell_type": "markdown",
   "metadata": {},
   "source": [
    "# Modeling/Coding"
   ]
  },
  {
   "cell_type": "code",
   "execution_count": 1,
   "metadata": {},
   "outputs": [],
   "source": [
    "import math\n",
    "import numpy as np\n",
    "import cvxpy as cvx\n"
   ]
  },
  {
   "cell_type": "code",
   "execution_count": null,
   "metadata": {},
   "outputs": [],
   "source": []
  },
  {
   "cell_type": "code",
   "execution_count": null,
   "metadata": {},
   "outputs": [],
   "source": []
  }
 ],
 "metadata": {
  "kernelspec": {
   "display_name": "Python 3",
   "language": "python",
   "name": "python3"
  },
  "language_info": {
   "codemirror_mode": {
    "name": "ipython",
    "version": 3
   },
   "file_extension": ".py",
   "mimetype": "text/x-python",
   "name": "python",
   "nbconvert_exporter": "python",
   "pygments_lexer": "ipython3",
   "version": "3.6.3"
  }
 },
 "nbformat": 4,
 "nbformat_minor": 2
}
