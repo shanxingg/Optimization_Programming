{
 "cells": [
  {
   "cell_type": "markdown",
   "metadata": {},
   "source": [
    "# Lego: Part 2\n",
    "We come back to the Lego problem:\n",
    "\n",
    "You are the manager of a Lego Furniture production facility. The current resources available in your\n",
    "factory are 6 large orange Lego blocks and 8 small green Lego blocks.\n",
    "You can make two kinds of furniture with your available Lego blocks. The first kind is a chair, which\n",
    "retails for 10 dollars and takes 2 green blocks and 1 orange block to manufacture. The second one is a table,\n",
    "which retails for 16 dollars and takes 2 green blocks and 2 orange blocks to manufacture. Both pieces are\n",
    "good sellers and you’ll be able to sell anything you produce.\n",
    "What should you build in order to maximize revenues?\n",
    "\n",
    "What should you build in order to maximize revenues?"
   ]
  },
  {
   "cell_type": "markdown",
   "metadata": {},
   "source": [
    "# Modeling\n",
    "Let $x_1$ be the number of chairs and $x_2$ be the number of tables. The profit is $\\Pi=10x_1+16x_2$.\n",
    "\n",
    "The first constraint relates to available quantity of green blocs, whereas the second constaint relates to the available quantity of orange blocks.\n",
    "\n",
    "To manufacture a chair, you need: two green blocks and one orange block.\n",
    "\n",
    "To manufacture a table, you need: two green blocks and two orange blocks   \n",
    "\n",
    "\\begin{align}\n",
    "\\text{Maximize} \\quad &10x_1+16x_2\\\\\n",
    "\\text{s.t.}\\quad & 2x_1 +2x_2\\leq 8\\\\\n",
    "&x_1+2x_2\\leq 6\\\\\n",
    "& x_1,x_2\\geq 0\n",
    "\\end{align}\n",
    "\n",
    "\n",
    "\n",
    "\n"
   ]
  },
  {
   "cell_type": "markdown",
   "metadata": {},
   "source": [
    "We can rerwite this linear program in compact form\n",
    "\n",
    "\\begin{align}\n",
    "\\text{Maximize} \\quad c^T x\\\\\n",
    "\\text{s.t.}\\quad & Ax\\leq b\\\\\n",
    "\\end{align}"
   ]
  },
  {
   "cell_type": "markdown",
   "metadata": {},
   "source": [
    "# Solution"
   ]
  },
  {
   "cell_type": "code",
   "execution_count": 9,
   "metadata": {},
   "outputs": [
    {
     "name": "stdout",
     "output_type": "stream",
     "text": [
      "     pcost       dcost       gap    pres   dres   k/t\n",
      " 0: -4.8667e+01 -9.0667e+01  1e+01  0e+00  6e-01  1e+00\n",
      " 1: -5.1336e+01 -5.4697e+01  1e+00  3e-16  5e-02  8e-02\n",
      " 2: -5.1992e+01 -5.2054e+01  2e-02  4e-16  9e-04  2e-03\n",
      " 3: -5.2000e+01 -5.2001e+01  2e-04  3e-16  9e-06  2e-05\n",
      " 4: -5.2000e+01 -5.2000e+01  2e-06  2e-16  9e-08  2e-07\n",
      "Optimal solution found.\n",
      "[ 2.00e+00]\n",
      "[ 2.00e+00]\n",
      "\n",
      "51.99999922485854\n",
      "[[ 51.99999922]]\n"
     ]
    }
   ],
   "source": [
    "from cvxopt import matrix, solvers\n",
    "import numpy  \n",
    "A = matrix([ [2.0, 1.0,-1.0,0.0], [2.0,2.0,0.0,-1.0] ])\n",
    "b = matrix([ 8.0, 6.0,0.0,0.0 ])\n",
    "c = matrix([ -10.0, -16.0 ])\n",
    "sol=solvers.lp(c,A,b)\n",
    "print(sol['x'])\n",
    "print(-sol['primal objective'])\n",
    "print(-numpy.matmul(numpy.transpose(c),sol['x']))"
   ]
  },
  {
   "cell_type": "markdown",
   "metadata": {},
   "source": [
    "# New Problem\n",
    "The new problem is \n",
    "You are the manager of a Lego Furniture production facility. The current resources available in your\n",
    "factory are 6 large orange Lego blocks and 11 small green Lego blocks.\n",
    "You can make two kinds of furniture with your available Lego blocks. The first kind is a chair, which\n",
    "retails for 10 dollars and takes 2 green blocks and 1 orange block to manufacture. The second one is a table,\n",
    "which retails for 16 dollars and takes 2 green blocks and 2 orange blocks to manufacture. Both pieces are\n",
    "good sellers and you’ll be able to sell anything you produce.\n",
    "What should you build in order to maximize revenues?\n",
    "\n",
    "What should you build in order to maximize revenues?\n",
    "\n",
    "Similar to the initial problem, we formulate the mathematical problem as:\n",
    "\n",
    "\\begin{align}\n",
    "\\text{Maximize} \\quad &10x_1+16x_2\\\\\n",
    "\\text{s.t.}\\quad & 2x_1 +2x_2\\leq \\textbf{11}\\\\\n",
    "&x_1+2x_2\\leq 6\\\\\n",
    "& x_1,x_2\\geq 0\n",
    "\\end{align}\n",
    "\n",
    "What is the solution?"
   ]
  },
  {
   "cell_type": "code",
   "execution_count": 26,
   "metadata": {},
   "outputs": [
    {
     "name": "stdout",
     "output_type": "stream",
     "text": [
      "     pcost       dcost       gap    pres   dres   k/t\n",
      " 0: -5.8667e+01 -1.0967e+02  5e+01  3e-01  6e-01  1e+00\n",
      " 1: -5.6001e+01 -6.3734e+01  5e+00  4e-02  9e-02  4e-01\n",
      " 2: -5.8012e+01 -5.8384e+01  2e-01  2e-03  4e-03  3e-02\n",
      " 3: -5.8000e+01 -5.8004e+01  2e-03  2e-05  5e-05  4e-04\n",
      " 4: -5.8000e+01 -5.8000e+01  2e-05  2e-07  5e-07  4e-06\n",
      " 5: -5.8000e+01 -5.8000e+01  2e-07  2e-09  5e-09  4e-08\n",
      "Optimal solution found.\n",
      "[ 5.00e+00]\n",
      "[ 5.00e-01]\n",
      "\n",
      "58.000000007119844\n",
      "[[ 58.00000001]]\n"
     ]
    }
   ],
   "source": [
    "from cvxopt import matrix, solvers\n",
    "import numpy  \n",
    "A = matrix([ [2.0, 1.0,-1.0,0.0], [2.0,2.0,0.0,-1.0] ])\n",
    "b = matrix([ 11.0, 6.0,0.0,0.0 ])\n",
    "c = matrix([ -10.0, -16.0 ])\n",
    "sol=solvers.lp(c,A,b)\n",
    "print(sol['x'])\n",
    "print(-sol['primal objective'])\n",
    "print(-numpy.matmul(numpy.transpose(c),sol['x']))"
   ]
  },
  {
   "cell_type": "markdown",
   "metadata": {},
   "source": [
    "## What's wrong here?\n",
    "\n",
    "There is an issue, which one?\n",
    "\n",
    "What should you do at this point? Should you round the $0.5$ to 0, to 1 or to something else?\n",
    "\n",
    "The answer is to change the way you are approaching the problem, i.e., you should take into account the integer nature of the variable."
   ]
  },
  {
   "cell_type": "markdown",
   "metadata": {},
   "source": [
    "## Solving the Problem with CVXPY"
   ]
  },
  {
   "cell_type": "code",
   "execution_count": 2,
   "metadata": {},
   "outputs": [
    {
     "name": "stdout",
     "output_type": "stream",
     "text": [
      "3.99999998824\n",
      "1.00000000668\n",
      "55.9999999892\n"
     ]
    }
   ],
   "source": [
    "import cvxpy as cvx\n",
    "import numpy\n",
    "# Problem data.\n",
    "\n",
    "# Construct the problem.\n",
    "#x1 = cvx.Variable(1)\n",
    "#x2 = cvx.Variable(1)\n",
    "\n",
    "x1=cvx.Int()\n",
    "x2=cvx.Int()\n",
    "\n",
    "#objective\n",
    "objective = cvx.Maximize(10*x1+16*x2)\n",
    "#constraint\n",
    "con = [2*x1+2*x2<=11,x1+2*x2<=6,0 <= x1,0 <= x2]\n",
    "\n",
    "#solving\n",
    "prob = cvx.Problem(objective, con)\n",
    "result = prob.solve()\n",
    "\n",
    "print (x1.value)\n",
    "print (x2.value)\n",
    "print (objective.value)\n",
    "\n"
   ]
  },
  {
   "cell_type": "markdown",
   "metadata": {},
   "source": [
    "# Solving with CVXOPT"
   ]
  },
  {
   "cell_type": "code",
   "execution_count": 10,
   "metadata": {},
   "outputs": [
    {
     "name": "stdout",
     "output_type": "stream",
     "text": [
      "optimal\n",
      "4.0 1.0\n",
      "56.0\n"
     ]
    }
   ],
   "source": [
    "import cvxopt\n",
    "import numpy as np\n",
    "from   cvxopt import glpk\n",
    "\n",
    "c=cvxopt.matrix([ -10.0, -16.0 ],tc='d')\n",
    "A=cvxopt.matrix([ [2.0, 1.0,-1.0,0.0], [2.0,2.0,0.0,-1.0] ],tc='d')\n",
    "b=cvxopt.matrix([ 11.0, 6.0,0.0,0.0 ],tc='d')\n",
    "(status, x)=cvxopt.glpk.ilp(c,A,b,I=set([0,1])) #set the selected variables as integer, default is decimal.\n",
    "\n",
    "print (status)\n",
    "print (x[0],x[1] )\n",
    "print (-sum(c.T*x))"
   ]
  },
  {
   "cell_type": "code",
   "execution_count": null,
   "metadata": {},
   "outputs": [],
   "source": []
  },
  {
   "cell_type": "markdown",
   "metadata": {},
   "source": [
    "\\begin{align}\n",
    "\\text{Maximize} \\quad &10x_1+16x_2\\\\\n",
    "\\text{s.t.}\\quad & 2x_1 +2x_2\\leq \\textbf{11}\\\\\n",
    "&x_1+2x_2\\leq 6\\\\\n",
    "& x_1,x_2\\geq 0\n",
    "\\end{align}\n",
    "\n",
    "What is the solution?"
   ]
  },
  {
   "cell_type": "markdown",
   "metadata": {},
   "source": [
    "# Google Colab\n",
    "\n",
    "https://colab.research.google.com\n",
    "\n",
    "Packages to install:\n",
    "\n",
    "!pip install cvxopt\n",
    "\n",
    "!pip install cvxpy\n"
   ]
  },
  {
   "cell_type": "code",
   "execution_count": null,
   "metadata": {
    "collapsed": true
   },
   "outputs": [],
   "source": []
  }
 ],
 "metadata": {
  "kernelspec": {
   "display_name": "Python 3",
   "language": "python",
   "name": "python3"
  },
  "language_info": {
   "codemirror_mode": {
    "name": "ipython",
    "version": 3
   },
   "file_extension": ".py",
   "mimetype": "text/x-python",
   "name": "python",
   "nbconvert_exporter": "python",
   "pygments_lexer": "ipython3",
   "version": "3.6.3"
  }
 },
 "nbformat": 4,
 "nbformat_minor": 2
}
