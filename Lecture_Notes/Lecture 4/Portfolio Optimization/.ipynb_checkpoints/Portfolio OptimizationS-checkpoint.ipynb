{
 "cells": [
  {
   "cell_type": "markdown",
   "metadata": {},
   "source": [
    "# Portfolio\n",
    "We implement an portfolio optimization problem for tech companies, i.e.,\n",
    "\n",
    "* Amazon\n",
    "\n",
    "* Apple \n",
    "\n",
    "* eBay\n",
    "\n",
    "* Facebook\n",
    "\n",
    "* Google\n",
    "\n",
    "The goal is to minimize risk of the portfolio with a constraint on the minimum returns.\n",
    "\n",
    "\\begin{align}\n",
    "\\text{Minimize} \\quad \\frac{1}{2} x^T & \\Sigma x\\\\\n",
    "\\mu^T x &\\geq R\\\\\n",
    "\\sum_{i=1}^5&=1\\\\\n",
    "x&\\geq0\n",
    "\\end{align}\n",
    "\n",
    "\n",
    "\n",
    "\n"
   ]
  },
  {
   "cell_type": "code",
   "execution_count": 3,
   "metadata": {},
   "outputs": [
    {
     "name": "stdout",
     "output_type": "stream",
     "text": [
      "[[ 0.20208895]\n",
      " [ 0.23038675]\n",
      " [ 0.18158389]\n",
      " [ 0.1834852 ]\n",
      " [ 0.20245521]]\n"
     ]
    }
   ],
   "source": [
    "import numpy as np\n",
    "import math\n",
    "import cvxpy as cvx\n",
    "from numpy import matrix \n",
    "from cvxpy import *\n",
    "R=0.06/250 # return of 6%(yearly rate) divided by trading days\n",
    "mu=matrix([0.00183,0.0005,0.00064,0.00093,0.00081])\n",
    "Cov=matrix([[0.000410273, 2.60E-06,1.01688E-05,-1.11913E-05,4.33E-06],[2.60E-06,0.000213984, 5.96877E-05,6.53986E-05, 5.68801E-05],[1.01688E-05,5.96877E-05, 0.000290081, 2.57951E-05, 5.41419E-05],[-1.11913E-05, 6.53986E-05, 2.57951E-05, 0.000255913, 9.74451E-05],[4.33E-06, 5.68801E-05,5.41419E-05, 9.74451E-05,0.000209841]])\n",
    "x=cvx.Variable(5)\n",
    "\n",
    "risk=quad_form(x,Cov)\n",
    "rr=sum_entries(mu*x)\n",
    "prob1=Problem(Minimize(risk),\n",
    "             [rr>=R, sum_entries(x)==1,\n",
    "              x>=0])\n",
    "prob1.solve()\n",
    "print(x.value)"
   ]
  }
 ],
 "metadata": {
  "kernelspec": {
   "display_name": "Python 3",
   "language": "python",
   "name": "python3"
  },
  "language_info": {
   "codemirror_mode": {
    "name": "ipython",
    "version": 3
   },
   "file_extension": ".py",
   "mimetype": "text/x-python",
   "name": "python",
   "nbconvert_exporter": "python",
   "pygments_lexer": "ipython3",
   "version": "3.6.3"
  }
 },
 "nbformat": 4,
 "nbformat_minor": 2
}
