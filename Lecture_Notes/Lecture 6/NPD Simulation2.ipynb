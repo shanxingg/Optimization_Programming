{
 "cells": [
  {
   "cell_type": "markdown",
   "metadata": {},
   "source": [
    "# Simulation\n",
    "\n",
    "There are a lot of uncertainties involved when a company is considering the development of a new product and its introduction to the market. The company needs to decide on including certain features, while their exact effects on the sales of the product are not known a priori.\n",
    "\n",
    "Our company is contemplating the development and introduction of a new smart watch to the market. The company is mainly thinking about the following features for the watch.\n",
    "\n",
    "1. Adding built-in GPS and Wi-Fi that operates independently (and not rely on a connecting device).\n",
    "2. Making it modular, so that it consists of replaceable and interchangeable modules.\n",
    "3. Adding a small built-in camera.\n",
    "4. Adding a high-end battery, so that it lasts twice as long as the competing products.\n",
    "\n",
    "Based on preliminary studies, the company has figured out that the profit for this watch will be determined by a random variable, denoted by P , via the following formula. All the figures are in million dollars. \n",
    "\n",
    "\\begin{equation}\n",
    "P=P_{Baseline}+P_{GPS,Wifi}+P_{Modular}+P_{Camera}+P_{Battery}\n",
    "\\end{equation}\n",
    "\n",
    "where\n",
    "\\begin{equation}\n",
    "P_{Baseline}=\\chi^2(200)\n",
    "\\end{equation}\n",
    "\n",
    "\\begin{equation}\n",
    "P_{GPS,Wifi}=N(40,8)\n",
    "\\end{equation}\n",
    "\n",
    "\\begin{equation}\n",
    "P_{Modular}=N(35,20)\n",
    "\\end{equation}\n",
    "\n",
    "\\begin{equation}\n",
    "P_{Camera}=N(20,5)\n",
    "\\end{equation}\n",
    "\n",
    "\\begin{equation}\n",
    "P_{Battery}=N(15,8)\n",
    "\\end{equation}\n",
    "\n",
    "However, there is a cost of investment (including the production cost and the R&D cost) for each of the above features: adding built-in GPS and Wi-Fi costs \\$30 million, making the phone modular costs \\$32 million, adding a camera costs \\$16 million, and including a high-end battery costs $10 million. \n",
    "\n",
    "What features should the company include? For simplicity, we are going to assume that the firm contemplates only the GPS,Wifi option and the modularity of the phone, while the camera and high-end battery features are necessary.\n"
   ]
  },
  {
   "cell_type": "code",
   "execution_count": 10,
   "metadata": {
    "collapsed": true
   },
   "outputs": [],
   "source": [
    "import numpy as np\n",
    "import math\n",
    "from numpy import * \n",
    "import matplotlib.pyplot as plt\n",
    "import pandas as pd\n",
    "c1=30 # GPS\n",
    "c2=32 # Modularity\n",
    "c3=16 # Camera\n",
    "c4=10 # Battery\n"
   ]
  },
  {
   "cell_type": "code",
   "execution_count": 16,
   "metadata": {},
   "outputs": [
    {
     "name": "stdout",
     "output_type": "stream",
     "text": [
      "222.080595701\n",
      "949.658311377\n"
     ]
    }
   ],
   "source": [
    "#Simulation for the Full Model\n",
    "n=100000 # I am doing n simulations\n",
    "zF_values = []\n",
    "for q in range(n):\n",
    "    r0=np.random.chisquare(200)\n",
    "    r1=np.random.normal(40,8)\n",
    "    r2=np.random.normal(35,20)\n",
    "    r3=np.random.normal(20,5)\n",
    "    r4=np.random.normal(15,8)\n",
    "    zF_values.append(r0+r1+r2+r3+r4-c1-c2-c3-c4)\n",
    "\n",
    "plt.hist(zF_values, density=True )\n",
    "plt.xlabel('Profit in Million')\n",
    "plt.ylabel('Probability')\n",
    "plt.title('Value of the Full Model')\n",
    "#plt.show() \n",
    "print(mean(zF_values))\n",
    "print(np.var(zF_values))\n"
   ]
  },
  {
   "cell_type": "markdown",
   "metadata": {},
   "source": [
    "# Utility Models"
   ]
  },
  {
   "cell_type": "markdown",
   "metadata": {},
   "source": [
    "We now compute the \"Utility\" derived from the different configurations, given different levels or risk aversion, i.e., g."
   ]
  },
  {
   "cell_type": "code",
   "execution_count": 17,
   "metadata": {},
   "outputs": [
    {
     "name": "stdout",
     "output_type": "stream",
     "text": [
      "212.584012588\n"
     ]
    }
   ],
   "source": [
    "g=0.01\n",
    "print(mean(zF_values)-g*np.var(zF_values))"
   ]
  },
  {
   "cell_type": "code",
   "execution_count": null,
   "metadata": {
    "collapsed": true
   },
   "outputs": [],
   "source": []
  }
 ],
 "metadata": {
  "kernelspec": {
   "display_name": "Python 3",
   "language": "python",
   "name": "python3"
  },
  "language_info": {
   "codemirror_mode": {
    "name": "ipython",
    "version": 3
   },
   "file_extension": ".py",
   "mimetype": "text/x-python",
   "name": "python",
   "nbconvert_exporter": "python",
   "pygments_lexer": "ipython3",
   "version": "3.6.3"
  }
 },
 "nbformat": 4,
 "nbformat_minor": 2
}
