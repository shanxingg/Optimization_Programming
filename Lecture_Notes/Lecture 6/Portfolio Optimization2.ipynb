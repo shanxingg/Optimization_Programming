{
 "cells": [
  {
   "cell_type": "markdown",
   "metadata": {},
   "source": [
    "# Portfolio\n",
    "We implement an portfolio optimization problem for tech companies, i.e.,\n",
    "\n",
    "* Amazon\n",
    "\n",
    "* Apple \n",
    "\n",
    "* eBay\n",
    "\n",
    "* Facebook\n",
    "\n",
    "* Google\n",
    "\n",
    "The goal is to minimize risk of the portfolio with a constraint on the minimum returns.\n",
    "\n",
    "\\begin{align}\n",
    "\\text{Minimize} \\quad \\frac{1}{2} x^T & \\Sigma x\\\\\n",
    "\\mu^T x &\\geq R\\\\\n",
    "\\sum_{i=1}^5x_i&=1\\\\\n",
    "x&\\geq0\n",
    "\\end{align}\n",
    "\n",
    "\n",
    "\n",
    "\n"
   ]
  },
  {
   "cell_type": "markdown",
   "metadata": {},
   "source": [
    "# Don't forget to instal cvxpy\n",
    "In a code cell, write and run:   !pip install cvxpy\n"
   ]
  },
  {
   "cell_type": "code",
   "execution_count": 1,
   "metadata": {},
   "outputs": [
    {
     "name": "stdout",
     "output_type": "stream",
     "text": [
      "[[ 0.20201442]\n",
      " [ 0.23051853]\n",
      " [ 0.18158234]\n",
      " [ 0.18339937]\n",
      " [ 0.20248534]]\n"
     ]
    }
   ],
   "source": [
    "import numpy as np\n",
    "import math\n",
    "import cvxpy as cvx\n",
    "from numpy import matrix \n",
    "from cvxpy import *\n",
    "import matplotlib.pyplot as plt\n",
    "import numpy as np\n",
    "import pandas as pd\n",
    "R=0.15/250\n",
    "mu=matrix([0.00183,0.0005,0.00064,0.00093,0.00081])\n",
    "Cov=matrix([[0.000410273, 2.60E-06,1.01688E-05,-1.11913E-05,4.33E-06],[2.60E-06,0.000213984, 5.96877E-05,6.53986E-05, 5.68801E-05],[1.01688E-05,5.96877E-05, 0.000290081, 2.57951E-05, 5.41419E-05],[-1.11913E-05, 6.53986E-05, 2.57951E-05, 0.000255913, 9.74451E-05],[4.33E-06, 5.68801E-05,5.41419E-05, 9.74451E-05,0.000209841]])\n",
    "x=cvx.Variable(5)\n",
    "\n",
    "\n",
    "#solution\n",
    "#prob = cvx.Problem(objective, c)\n",
    "#result = prob.solve()\n",
    "#Prob 1\n",
    "risk=quad_form(x, Cov)\n",
    "rr=sum_entries(mu*x)\n",
    "prob1 = Problem(Minimize(risk ), \n",
    "               [rr>=R,sum_entries(x) == 1, \n",
    "                x >= 0])\n",
    "prob1.solve()\n",
    "print(x.value)"
   ]
  },
  {
   "cell_type": "code",
   "execution_count": 2,
   "metadata": {},
   "outputs": [
    {
     "data": {
      "text/plain": [
       "147.45812304207107"
      ]
     },
     "execution_count": 2,
     "metadata": {},
     "output_type": "execute_result"
    }
   ],
   "source": [
    "## Simulating one path\n",
    "import matplotlib.pyplot as plt\n",
    "import numpy as np\n",
    "import pandas as pd\n",
    "T = 250\n",
    "m=5\n",
    "B=100\n",
    "mu=[0.00183,0.0005,0.00064,0.00093,0.00081]\n",
    "Cov=matrix([[0.000410273, 2.60E-06,1.01688E-05,-1.11913E-05,4.33E-06],[2.60E-06,0.000213984, 5.96877E-05,6.53986E-05, 5.68801E-05],[1.01688E-05,5.96877E-05, 0.000290081, 2.57951E-05, 5.41419E-05],[-1.11913E-05, 6.53986E-05, 2.57951E-05, 0.000255913, 9.74451E-05],[4.33E-06, 5.68801E-05,5.41419E-05, 9.74451E-05,0.000209841]])\n",
    "y = np.zeros((T+1,m))\n",
    "y[0]=[x.value.item(0),x.value.item(1),x.value.item(2),x.value.item(3),x.value.item(4)]\n",
    "for i in range(T):\n",
    "    rr=np.random.multivariate_normal(mu,Cov)\n",
    "    y[i+1]=y[i]*(1+rr)\n",
    "sum(y[T])*B"
   ]
  },
  {
   "cell_type": "code",
   "execution_count": 44,
   "metadata": {},
   "outputs": [
    {
     "data": {
      "image/png": "[encoded data removed]",
      "text/plain": [
       "<matplotlib.figure.Figure at 0x119f78c50>"
      ]
     },
     "metadata": {},
     "output_type": "display_data"
    }
   ],
   "source": [
    "# Simulation\n",
    "import numpy as np\n",
    "import matplotlib.pyplot as plt\n",
    "simu=100 # I am doing 50 simulations\n",
    "T = 250 # 250 trading days\n",
    "m=5 # I have 5 assets\n",
    "B=100 # Budget is $100\n",
    "z_values = []\n",
    "for q in range(simu):\n",
    "    y = np.zeros((T+1,m))\n",
    "    y[0]=[x.value.item(0),x.value.item(1),x.value.item(2),x.value.item(3),x.value.item(4)]\n",
    "    for i in range(T):\n",
    "        rr=np.random.multivariate_normal(mu,Cov)\n",
    "        y[i+1]=y[i]*(1+rr)\n",
    "    z_values.append(sum(y[T])*B)\n",
    "\n",
    "plt.hist(z_values, density=True )\n",
    "plt.xlabel('Portfolio')\n",
    "plt.ylabel('Probability')\n",
    "plt.title('Histogram of Returns')\n",
    "plt.show()"
   ]
  },
  {
   "cell_type": "code",
   "execution_count": null,
   "metadata": {
    "collapsed": true
   },
   "outputs": [],
   "source": []
  },
  {
   "cell_type": "code",
   "execution_count": 41,
   "metadata": {},
   "outputs": [
    {
     "data": {
      "image/png": "[encoded data removed]",
      "text/plain": [
       "<matplotlib.figure.Figure at 0x119f1e3c8>"
      ]
     },
     "metadata": {},
     "output_type": "display_data"
    }
   ],
   "source": [
    "# Simulation\n",
    "import numpy as np\n",
    "import matplotlib.pyplot as plt\n",
    "simu=50\n",
    "T = 250\n",
    "m=5\n",
    "B=100\n",
    "z_values = []\n",
    "for q in range(simu):\n",
    "    #mu=[0.00183,0.0005,0.00064,0.00093,0.00081]\n",
    "    #Cov=matrix([[0.000410273, 2.60E-06,1.01688E-05,-1.11913E-05,4.33E-06],[2.60E-06,0.000213984, 5.96877E-05,6.53986E-05, 5.68801E-05],[1.01688E-05,5.96877E-05, 0.000290081, 2.57951E-05, 5.41419E-05],[-1.11913E-05, 6.53986E-05, 2.57951E-05, 0.000255913, 9.74451E-05],[4.33E-06, 5.68801E-05,5.41419E-05, 9.74451E-05,0.000209841]])\n",
    "    y = np.zeros((T+1,m))\n",
    "    #rr=np.random.multivariate_normal(mu,Cov)\n",
    "    y[0]=[x.value.item(0),x.value.item(1),x.value.item(2),x.value.item(3),x.value.item(4)]\n",
    "    for i in range(T):\n",
    "        rr=np.random.multivariate_normal(mu,Cov)\n",
    "        y[i+1]=y[i]*(1+rr)\n",
    "    z_values.append(sum(y[T])*B)\n",
    "\n",
    "    \n",
    "plt.hist(z_values, density=True )\n",
    "plt.xlabel('Portfolio')\n",
    "plt.ylabel('Probability')\n",
    "plt.title('Histogram of Returns')\n",
    "plt.show()"
   ]
  },
  {
   "cell_type": "code",
   "execution_count": 40,
   "metadata": {},
   "outputs": [
    {
     "data": {
      "text/plain": [
       "[89.616778163592969, 165.49120679025611]"
      ]
     },
     "execution_count": 40,
     "metadata": {},
     "output_type": "execute_result"
    }
   ],
   "source": [
    "import math\n",
    "np.mean(z_values)\n",
    "np.var(z_values)\n",
    "std=math.sqrt(np.var(z_values))\n",
    "[np.mean(z_values)-1.96*std,np.mean(z_values)+1.96*std]\n"
   ]
  },
  {
   "cell_type": "code",
   "execution_count": null,
   "metadata": {
    "collapsed": true
   },
   "outputs": [],
   "source": []
  }
 ],
 "metadata": {
  "kernelspec": {
   "display_name": "Python 3",
   "language": "python",
   "name": "python3"
  },
  "language_info": {
   "codemirror_mode": {
    "name": "ipython",
    "version": 3
   },
   "file_extension": ".py",
   "mimetype": "text/x-python",
   "name": "python",
   "nbconvert_exporter": "python",
   "pygments_lexer": "ipython3",
   "version": "3.6.3"
  }
 },
 "nbformat": 4,
 "nbformat_minor": 2
}
