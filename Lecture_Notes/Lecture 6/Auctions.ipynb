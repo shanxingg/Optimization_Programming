{
 "cells": [
  {
   "cell_type": "code",
   "execution_count": 2,
   "metadata": {},
   "outputs": [
    {
     "name": "stdout",
     "output_type": "stream",
     "text": [
      "1.04868634773\n",
      "0.140382859877\n"
     ]
    }
   ],
   "source": [
    "import numpy as np\n",
    "import math\n",
    "from numpy import * \n",
    "import matplotlib.pyplot as plt\n",
    "import pandas as pd\n",
    "b=.5\n",
    "U0=np.random.exponential(b)\n",
    "\n",
    "M=10000 # M Draws\n",
    "N=12 # Numbers of Agents\n",
    "#W0=np.random.uniform(0,b,N)\n",
    "#Price should be second highest value in the Vector\n",
    "\n",
    "z_values = []\n",
    "for q in range(M):\n",
    "  W0=np.random.exponential(b,N) #WTP of bidders is exponentially distributed\n",
    "  r0=np.partition(W0,-2)[-2]#Take second highest valuations\n",
    "  z_values.append(r0)\n",
    "print(mean(z_values)) # Expected revenue with N agents whose types are distributed like exponential with parameter b, with OE Mechanism\n",
    "print(np.var(z_values))"
   ]
  },
  {
   "cell_type": "code",
   "execution_count": null,
   "metadata": {},
   "outputs": [],
   "source": []
  }
 ],
 "metadata": {
  "kernelspec": {
   "display_name": "Python 3",
   "language": "python",
   "name": "python3"
  },
  "language_info": {
   "codemirror_mode": {
    "name": "ipython",
    "version": 3
   },
   "file_extension": ".py",
   "mimetype": "text/x-python",
   "name": "python",
   "nbconvert_exporter": "python",
   "pygments_lexer": "ipython3",
   "version": "3.6.3"
  }
 },
 "nbformat": 4,
 "nbformat_minor": 2
}
