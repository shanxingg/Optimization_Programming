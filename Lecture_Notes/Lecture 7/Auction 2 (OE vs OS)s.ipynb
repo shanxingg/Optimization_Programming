{
 "cells": [
  {
   "cell_type": "markdown",
   "metadata": {},
   "source": [
    "# Only Exclusive"
   ]
  },
  {
   "cell_type": "code",
   "execution_count": 1,
   "metadata": {},
   "outputs": [
    {
     "name": "stdout",
     "output_type": "stream",
     "text": [
      "7.35229770895\n",
      "0.651793260378\n"
     ]
    }
   ],
   "source": [
    "import numpy as np\n",
    "import math\n",
    "from numpy import * \n",
    "import matplotlib.pyplot as plt\n",
    "import pandas as pd\n",
    "bs=.5 # exponential distribution parameter for drawing agent's shared valuation\n",
    "bm=1 # exponential distribution parameter for drawing agent's margin for exclusivity\n",
    "#U0=np.random.exponential(b)\n",
    "\n",
    "M=1000 # M Draws\n",
    "N=1200 # Numbers of Agents\n",
    "#Price should be second highest value in the Vector\n",
    "\n",
    "zOE_values = []\n",
    "for q in range(M):\n",
    "    Ws=np.random.exponential(bs,N) # vector of shared valuations\n",
    "    Wm=np.random.exponential(bm,N) # vector of exclusivity margins\n",
    "    W0=Ws+Wm # vector of exclusive valuations (s+m)\n",
    "    r0=np.partition(W0,-2)[-2]#Take second highest valuation\n",
    "    zOE_values.append(r0)\n",
    "print(mean(zOE_values)) # Expected revenue with N agents whose types are distributed like exponential with parameter b, with OE Mechanism\n",
    "print(np.var(zOE_values))"
   ]
  },
  {
   "cell_type": "markdown",
   "metadata": {},
   "source": [
    "# Only Shared\n",
    "Compute the expected profit based on the shared pricing scheme"
   ]
  },
  {
   "cell_type": "code",
   "execution_count": null,
   "metadata": {
    "collapsed": true
   },
   "outputs": [],
   "source": []
  },
  {
   "cell_type": "markdown",
   "metadata": {},
   "source": [
    "# Difference between OE and OS\n",
    "Create visualization to assess the difference between the two pricing schemes"
   ]
  },
  {
   "cell_type": "code",
   "execution_count": null,
   "metadata": {
    "collapsed": true
   },
   "outputs": [],
   "source": []
  }
 ],
 "metadata": {
  "kernelspec": {
   "display_name": "Python 3",
   "language": "python",
   "name": "python3"
  },
  "language_info": {
   "codemirror_mode": {
    "name": "ipython",
    "version": 3
   },
   "file_extension": ".py",
   "mimetype": "text/x-python",
   "name": "python",
   "nbconvert_exporter": "python",
   "pygments_lexer": "ipython3",
   "version": "3.6.3"
  }
 },
 "nbformat": 4,
 "nbformat_minor": 2
}
