{
 "cells": [
  {
   "cell_type": "markdown",
   "metadata": {},
   "source": [
    " # Lecture 2 Analytical Decision Making\n",
    "\n",
    "UC Davis MSBA\n",
    "https://gsm.ucdavis.edu/msba-masters-science-business-analytics\n",
    "    \n",
    "Author: \n",
    "        Olivier Rubel, Ph.D.,\n",
    "\n",
    "        Associate Professor of Marketing\n",
    "        \n",
    "        Graduate School of Management\n",
    "        \n",
    "        UC Davis\n",
    "        \n",
    "        https://github.com/ormarketing\n",
    "\n",
    "Initial Version: March 26, 2018\n",
    "\n",
    "This Version   : April $5^{th}$, 2018\n"
   ]
  },
  {
   "cell_type": "markdown",
   "metadata": {},
   "source": [
    "# Online Advertising\n",
    "Content publishers such as The New York Times, The Washington Post and The Wall Street Journal generate revenue by using display advertisements.\n",
    "\n",
    "\n",
    "The Washington Post's website contains several different sections including Sports and National. The number of views each section gets per day can be estimated by analyzing\n",
    "historical data. Assume that the Sports section gets six million views per day and the National section\n",
    "get five million views per day.\n",
    "\n",
    "Assume four companies, GEICO, Delta, T-mobile and Capital One, wish to advertise on the Sports\n",
    "and National sections of the Washington Post and they contract directly with the newspaper. For each\n",
    "company, the contract specifies the number of times its display ads are shown in these two sections.\n",
    "The contracts sometimes also specify a total number of page views that can originate from any section\n",
    "of the newspaper. The page views promised by The Washington Post to each advertiser are\n",
    "summarized in Table 1 below. \n",
    "\n",
    "| Company | Sports | National | Total         \n",
    "| :---:|:---: | :---:|:---:\n",
    "| GEICO|2 million | 1 million|-\n",
    "| Delta|- | 1 million|2 million\n",
    "| T-Mobile|1 million | 1 million|3 million\n",
    "| Capital One|- | -|2 million\n",
    "\n",
    "Assume that the contract also specifies that The Washington Post receives \\$2.30 per click-through from each of the four companies. However, not every page view leads to a click. If every 1000 views leads to 5 clicks, the click-through rate is 0.5$\\%$. Newspapers use historical data and tracking technologies to determine click-through rates. Assume that the relevant click-through rates are given in the Table 2 below.\n",
    "\n",
    "| Company | Sports | National          \n",
    "| :---:|:---: | :---:\n",
    "| GEICO|$2.5\\%$ | $0.8\\%$\n",
    "| Delta|$2.0\\%$| $1.0\\%$\n",
    "| T-Mobile|$1.0\\%$| $3.0\\%$\n",
    "| Capital One|$1.5\\%$| $2.0\\%$\n",
    "\n",
    "What is the optimal ad placement policy that maximizes the click-through revenues while meeting the contractual obligations?\n",
    "\n"
   ]
  },
  {
   "cell_type": "markdown",
   "metadata": {},
   "source": [
    "# Modeling\n",
    "## What are the decision variables?\n",
    " \n",
    "\n",
    "## What is the objective?\n",
    "\n",
    "\n",
    "\n",
    "\n",
    "## What are the constraints?\n",
    "\n",
    "\n"
   ]
  },
  {
   "cell_type": "markdown",
   "metadata": {},
   "source": [
    "# Modeling\n",
    "Below we use \n",
    "http://cvxopt.org/userguide/modeling.html\n",
    "to model this problem"
   ]
  },
  {
   "cell_type": "markdown",
   "metadata": {},
   "source": [
    "### Definition of the Variables\n",
    "| Company | Sports | National          \n",
    "| :---:|:---: | :---:\n",
    "| GEICO|$x_1$ | $x_2$\n",
    "| Delta|$x_3$| $x_4$\n",
    "| T-Mobile|$x_5$| $x_6$\n",
    "| Capital One|$x_7$| $x_8$"
   ]
  },
  {
   "cell_type": "markdown",
   "metadata": {},
   "source": [
    "### Definition of the Constraints\n",
    "\n",
    "\\begin{align}\n",
    "\\text{maximize} \\quad &2.3 * (0.025x_1 + 0.008x_2 + 0.02x_3 + 0.01x_4 + 0.01x_5 + 0.03x_6 + 0.015x_7 + 0.02x_8)\\\\\n",
    "\\text{= minimize} \\quad &-0.0575x_1 - 0.0184x_2 - 0.046x_3 - 0.023x_4 - 0.023x_5 - 0.069x_6 - 0.0345x_7 - 0.046x_8\\\\\n",
    "\\text{s.t.}\\quad & x_1 + x_3 + x_5 + x_7\\leq 6000000\\\\\n",
    "& x_2 + x_4 + x_6 + x_8\\leq 5000000\\\\\n",
    "& x_3 + x_4\\geq 2000000\\\\\n",
    "& x_5 + x_6\\geq 3000000\\\\\n",
    "& x_7 + x_8\\geq 2000000\\\\\n",
    "& x_1\\geq 2000000\\\\\n",
    "& x_2\\geq 1000000\\\\\n",
    "& x_3\\geq 0\\\\\n",
    "& x_4\\geq 1000000\\\\\n",
    "& x_5\\geq 1000000\\\\\n",
    "& x_6\\geq 1000000\\\\\n",
    "& x_7\\geq 0\\\\\n",
    "& x_8\\geq 0\\\\\n",
    "\\end{align}"
   ]
  },
  {
   "cell_type": "code",
   "execution_count": 20,
   "metadata": {},
   "outputs": [
    {
     "name": "stdout",
     "output_type": "stream",
     "text": [
      "     pcost       dcost       gap    pres   dres   k/t\n",
      " 0: -2.7697e+05  1.7850e+06  4e+07  1e+00  3e+00  1e+00\n",
      " 1:  1.7611e+05  7.3024e+06  5e+09  3e+00  7e+00  1e+06\n",
      " 2:  2.8977e+05  1.4426e+08  6e+11  4e+00  9e+00  1e+08\n",
      "Certificate of primal infeasibility found.\n",
      "None\n"
     ]
    },
    {
     "ename": "TypeError",
     "evalue": "bad operand type for unary -: 'NoneType'",
     "output_type": "error",
     "traceback": [
      "\u001b[0;31m---------------------------------------------------------------------------\u001b[0m",
      "\u001b[0;31mTypeError\u001b[0m                                 Traceback (most recent call last)",
      "\u001b[0;32m<ipython-input-20-98fc6b68e289>\u001b[0m in \u001b[0;36m<module>\u001b[0;34m()\u001b[0m\n\u001b[1;32m     17\u001b[0m \u001b[0;34m\u001b[0m\u001b[0m\n\u001b[1;32m     18\u001b[0m \u001b[0mprint\u001b[0m\u001b[0;34m(\u001b[0m\u001b[0msol\u001b[0m\u001b[0;34m[\u001b[0m\u001b[0;34m'x'\u001b[0m\u001b[0;34m]\u001b[0m\u001b[0;34m)\u001b[0m\u001b[0;34m\u001b[0m\u001b[0m\n\u001b[0;32m---> 19\u001b[0;31m \u001b[0mprint\u001b[0m\u001b[0;34m(\u001b[0m\u001b[0;34m-\u001b[0m\u001b[0msol\u001b[0m\u001b[0;34m[\u001b[0m\u001b[0;34m'primal objective'\u001b[0m\u001b[0;34m]\u001b[0m\u001b[0;34m)\u001b[0m \u001b[0;31m# change min to max\u001b[0m\u001b[0;34m\u001b[0m\u001b[0m\n\u001b[0m",
      "\u001b[0;31mTypeError\u001b[0m: bad operand type for unary -: 'NoneType'"
     ]
    }
   ],
   "source": [
    "from cvxopt import matrix, solvers\n",
    "import numpy\n",
    "A = matrix([[1.0, 0.0, 0.0, 0.0, 0.0, -1.0, 0.0, 0.0, 0.0, 0.0, 0.0, 0.0, 0.0], \n",
    "            [0.0, 1.0, 0.0, 0.0, 0.0, 0.0, -1.0, 0.0, 0.0, 0.0, 0.0, 0.0, 0.0],\n",
    "            [1.0, 0.0, 1.0, 0.0, 0.0, 0.0, 0.0, -1.0, 0.0, 0.0, 0.0, 0.0, 0.0],\n",
    "            [0.0, 1.0, 1.0, 0.0, 0.0, 0.0, 0.0, 0.0, -1.0, 0.0, 0.0, 0.0, 0.0],\n",
    "            [1.0, 0.0, 0.0, 1.0, 0.0, 0.0, 0.0, 0.0, 0.0, -1.0, 0.0, 0.0, 0.0],\n",
    "            [0.0, 1.0, 0.0, 1.0, 0.0, 0.0, 0.0, 0.0, 0.0, 0.0, -1.0, 0.0, 0.0],\n",
    "            [1.0, 0.0, 0.0, 0.0, 1.0, 0.0, 0.0, 0.0, 0.0, 0.0, 0.0, -1.0, 0.0],\n",
    "            [0.0, 1.0, 0.0, 0.0, 1.0, 0.0, 0.0, 0.0, 0.0, 0.0, 0.0, 0.0, -1.0],])\n",
    "\n",
    "b = matrix([6000000.0, 5000000.0, -2000000.0, -3000000.0, -2000000.0, -2000000.0, \n",
    "            -1000000.0, 0.0, -1000000.0, -1000000.0, -1000000.0, 0.0, 0.0])\n",
    "\n",
    "c = matrix([-0.0575, -0.0184, -0.046, -0.023, -0.023, -0.069, -0.0345, -0.046])\n",
    "sol=solvers.lp(c,A,b)\n",
    "\n",
    "print(sol['x'])\n",
    "print(-sol['primal objective']) # change min to max"
   ]
  },
  {
   "cell_type": "code",
   "execution_count": null,
   "metadata": {
    "collapsed": true
   },
   "outputs": [],
   "source": [
    "import math\n",
    "import numpy\n",
    "from cvxopt import matrix\n",
    "from cvxopt.modeling import variable\n",
    "from cvxopt.modeling import op\n",
    "# Definition of the Variables\n",
    "\n",
    "\n",
    "# Definition of the Constraints\n",
    "\n",
    "\n",
    "#Objective Function\n",
    "\n",
    "#solving\n",
    "OA=op(,[Constraints])\n",
    "OA.solve()\n",
    "OA.status\n",
    "print(OA.objective.value())"
   ]
  }
 ],
 "metadata": {
  "kernelspec": {
   "display_name": "Python 3",
   "language": "python",
   "name": "python3"
  },
  "language_info": {
   "codemirror_mode": {
    "name": "ipython",
    "version": 3
   },
   "file_extension": ".py",
   "mimetype": "text/x-python",
   "name": "python",
   "nbconvert_exporter": "python",
   "pygments_lexer": "ipython3",
   "version": "3.6.3"
  }
 },
 "nbformat": 4,
 "nbformat_minor": 2
}
