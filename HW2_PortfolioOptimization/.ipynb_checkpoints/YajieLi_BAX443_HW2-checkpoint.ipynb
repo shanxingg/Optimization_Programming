{
 "cells": [
  {
   "cell_type": "markdown",
   "metadata": {
    "colab_type": "text",
    "id": "wO_zRGxbD_C5"
   },
   "source": [
    "## Part A: Portfolio Optimization based on the Full Data Set"
   ]
  },
  {
   "cell_type": "markdown",
   "metadata": {
    "colab_type": "text",
    "id": "yQh04a6mD9in"
   },
   "source": [
    "### 1. Preparing the data"
   ]
  },
  {
   "cell_type": "code",
   "execution_count": 46,
   "metadata": {
    "colab": {
     "autoexec": {
      "startup": false,
      "wait_interval": 0
     }
    },
    "colab_type": "code",
    "collapsed": true,
    "id": "4-V4Ni7ODwhG"
   },
   "outputs": [],
   "source": [
    "import pandas as pd\n",
    "import numpy as np\n",
    "from scipy import stats\n",
    "import math\n",
    "import cvxpy as cvx\n",
    "from numpy import matrix \n",
    "from cvxpy import *\n",
    "import matplotlib.pyplot as plt\n",
    "%matplotlib inline"
   ]
  },
  {
   "cell_type": "code",
   "execution_count": 47,
   "metadata": {
    "colab": {
     "autoexec": {
      "startup": false,
      "wait_interval": 0
     },
     "base_uri": "https://localhost:8080/",
     "height": 111
    },
    "colab_type": "code",
    "executionInfo": {
     "elapsed": 284,
     "status": "ok",
     "timestamp": 1527110061981,
     "user": {
      "displayName": "Yajie Li",
      "photoUrl": "https://lh3.googleusercontent.com/a/default-user=s128",
      "userId": "105520643925225879740"
     },
     "user_tz": 420
    },
    "id": "DNDzbOuGD9FQ",
    "outputId": "d4a27f8d-b4af-4cb9-8719-29b487bbb629"
   },
   "outputs": [
    {
     "data": {
      "text/html": [
       "<div>\n",
       "<style>\n",
       "    .dataframe thead tr:only-child th {\n",
       "        text-align: right;\n",
       "    }\n",
       "\n",
       "    .dataframe thead th {\n",
       "        text-align: left;\n",
       "    }\n",
       "\n",
       "    .dataframe tbody tr th {\n",
       "        vertical-align: top;\n",
       "    }\n",
       "</style>\n",
       "<table border=\"1\" class=\"dataframe\">\n",
       "  <thead>\n",
       "    <tr style=\"text-align: right;\">\n",
       "      <th></th>\n",
       "      <th>Amazon</th>\n",
       "      <th>Apple</th>\n",
       "      <th>Ebay</th>\n",
       "      <th>Facebook</th>\n",
       "      <th>Google</th>\n",
       "      <th>Twitter</th>\n",
       "    </tr>\n",
       "  </thead>\n",
       "  <tbody>\n",
       "    <tr>\n",
       "      <th>0</th>\n",
       "      <td>252.585</td>\n",
       "      <td>106.250000</td>\n",
       "      <td>23.457600</td>\n",
       "      <td>77.190002</td>\n",
       "      <td>519.500000</td>\n",
       "      <td>36.380001</td>\n",
       "    </tr>\n",
       "    <tr>\n",
       "      <th>1</th>\n",
       "      <td>245.488</td>\n",
       "      <td>106.260002</td>\n",
       "      <td>23.156700</td>\n",
       "      <td>76.150002</td>\n",
       "      <td>506.600006</td>\n",
       "      <td>37.279999</td>\n",
       "    </tr>\n",
       "    <tr>\n",
       "      <th>2</th>\n",
       "      <td>253.816</td>\n",
       "      <td>107.750000</td>\n",
       "      <td>23.116699</td>\n",
       "      <td>76.150002</td>\n",
       "      <td>505.200012</td>\n",
       "      <td>39.090000</td>\n",
       "    </tr>\n",
       "    <tr>\n",
       "      <th>3</th>\n",
       "      <td>256.030</td>\n",
       "      <td>111.889999</td>\n",
       "      <td>23.741699</td>\n",
       "      <td>78.175003</td>\n",
       "      <td>506.899994</td>\n",
       "      <td>40.169998</td>\n",
       "    </tr>\n",
       "    <tr>\n",
       "      <th>4</th>\n",
       "      <td>253.299</td>\n",
       "      <td>112.010002</td>\n",
       "      <td>23.413401</td>\n",
       "      <td>77.739998</td>\n",
       "      <td>500.700012</td>\n",
       "      <td>39.369999</td>\n",
       "    </tr>\n",
       "  </tbody>\n",
       "</table>\n",
       "</div>"
      ],
      "text/plain": [
       "    Amazon       Apple       Ebay   Facebook      Google    Twitter\n",
       "0  252.585  106.250000  23.457600  77.190002  519.500000  36.380001\n",
       "1  245.488  106.260002  23.156700  76.150002  506.600006  37.279999\n",
       "2  253.816  107.750000  23.116699  76.150002  505.200012  39.090000\n",
       "3  256.030  111.889999  23.741699  78.175003  506.899994  40.169998\n",
       "4  253.299  112.010002  23.413401  77.739998  500.700012  39.369999"
      ]
     },
     "execution_count": 47,
     "metadata": {},
     "output_type": "execute_result"
    }
   ],
   "source": [
    "df = pd.read_excel('datahomework2.xls')\n",
    "df.head(5)"
   ]
  },
  {
   "cell_type": "markdown",
   "metadata": {
    "colab_type": "text",
    "id": "kiqjSaorGlIN"
   },
   "source": [
    "#### A. Based on the data set, compute the rate of returns for each stock"
   ]
  },
  {
   "cell_type": "code",
   "execution_count": 48,
   "metadata": {},
   "outputs": [
    {
     "data": {
      "text/html": [
       "<div>\n",
       "<style>\n",
       "    .dataframe thead tr:only-child th {\n",
       "        text-align: right;\n",
       "    }\n",
       "\n",
       "    .dataframe thead th {\n",
       "        text-align: left;\n",
       "    }\n",
       "\n",
       "    .dataframe tbody tr th {\n",
       "        vertical-align: top;\n",
       "    }\n",
       "</style>\n",
       "<table border=\"1\" class=\"dataframe\">\n",
       "  <thead>\n",
       "    <tr style=\"text-align: right;\">\n",
       "      <th></th>\n",
       "      <th>Amazon</th>\n",
       "      <th>Apple</th>\n",
       "      <th>Ebay</th>\n",
       "      <th>Facebook</th>\n",
       "      <th>Google</th>\n",
       "      <th>Twitter</th>\n",
       "    </tr>\n",
       "  </thead>\n",
       "  <tbody>\n",
       "    <tr>\n",
       "      <th>0</th>\n",
       "      <td>NaN</td>\n",
       "      <td>NaN</td>\n",
       "      <td>NaN</td>\n",
       "      <td>NaN</td>\n",
       "      <td>NaN</td>\n",
       "      <td>NaN</td>\n",
       "    </tr>\n",
       "    <tr>\n",
       "      <th>1</th>\n",
       "      <td>252.585</td>\n",
       "      <td>106.250000</td>\n",
       "      <td>23.457600</td>\n",
       "      <td>77.190002</td>\n",
       "      <td>519.500000</td>\n",
       "      <td>36.380001</td>\n",
       "    </tr>\n",
       "    <tr>\n",
       "      <th>2</th>\n",
       "      <td>245.488</td>\n",
       "      <td>106.260002</td>\n",
       "      <td>23.156700</td>\n",
       "      <td>76.150002</td>\n",
       "      <td>506.600006</td>\n",
       "      <td>37.279999</td>\n",
       "    </tr>\n",
       "    <tr>\n",
       "      <th>3</th>\n",
       "      <td>253.816</td>\n",
       "      <td>107.750000</td>\n",
       "      <td>23.116699</td>\n",
       "      <td>76.150002</td>\n",
       "      <td>505.200012</td>\n",
       "      <td>39.090000</td>\n",
       "    </tr>\n",
       "    <tr>\n",
       "      <th>4</th>\n",
       "      <td>256.030</td>\n",
       "      <td>111.889999</td>\n",
       "      <td>23.741699</td>\n",
       "      <td>78.175003</td>\n",
       "      <td>506.899994</td>\n",
       "      <td>40.169998</td>\n",
       "    </tr>\n",
       "  </tbody>\n",
       "</table>\n",
       "</div>"
      ],
      "text/plain": [
       "    Amazon       Apple       Ebay   Facebook      Google    Twitter\n",
       "0      NaN         NaN        NaN        NaN         NaN        NaN\n",
       "1  252.585  106.250000  23.457600  77.190002  519.500000  36.380001\n",
       "2  245.488  106.260002  23.156700  76.150002  506.600006  37.279999\n",
       "3  253.816  107.750000  23.116699  76.150002  505.200012  39.090000\n",
       "4  256.030  111.889999  23.741699  78.175003  506.899994  40.169998"
      ]
     },
     "execution_count": 48,
     "metadata": {},
     "output_type": "execute_result"
    }
   ],
   "source": [
    "df.shift(1).head(5)"
   ]
  },
  {
   "cell_type": "code",
   "execution_count": 49,
   "metadata": {
    "colab": {
     "autoexec": {
      "startup": false,
      "wait_interval": 0
     },
     "base_uri": "https://localhost:8080/",
     "height": 204
    },
    "colab_type": "code",
    "executionInfo": {
     "elapsed": 287,
     "status": "ok",
     "timestamp": 1527110064241,
     "user": {
      "displayName": "Yajie Li",
      "photoUrl": "https://lh3.googleusercontent.com/a/default-user=s128",
      "userId": "105520643925225879740"
     },
     "user_tz": 420
    },
    "id": "PT8FQEPsD9Hp",
    "outputId": "3cab9ede-eb58-48aa-fa01-a14b9a7ecec9"
   },
   "outputs": [
    {
     "data": {
      "text/html": [
       "<div>\n",
       "<style>\n",
       "    .dataframe thead tr:only-child th {\n",
       "        text-align: right;\n",
       "    }\n",
       "\n",
       "    .dataframe thead th {\n",
       "        text-align: left;\n",
       "    }\n",
       "\n",
       "    .dataframe tbody tr th {\n",
       "        vertical-align: top;\n",
       "    }\n",
       "</style>\n",
       "<table border=\"1\" class=\"dataframe\">\n",
       "  <thead>\n",
       "    <tr style=\"text-align: right;\">\n",
       "      <th></th>\n",
       "      <th>Amazon</th>\n",
       "      <th>Apple</th>\n",
       "      <th>Ebay</th>\n",
       "      <th>Facebook</th>\n",
       "      <th>Google</th>\n",
       "      <th>Twitter</th>\n",
       "    </tr>\n",
       "  </thead>\n",
       "  <tbody>\n",
       "    <tr>\n",
       "      <th>0</th>\n",
       "      <td>NaN</td>\n",
       "      <td>NaN</td>\n",
       "      <td>NaN</td>\n",
       "      <td>NaN</td>\n",
       "      <td>NaN</td>\n",
       "      <td>NaN</td>\n",
       "    </tr>\n",
       "    <tr>\n",
       "      <th>1</th>\n",
       "      <td>-0.028097</td>\n",
       "      <td>0.000094</td>\n",
       "      <td>-0.012827</td>\n",
       "      <td>-0.013473</td>\n",
       "      <td>-0.024832</td>\n",
       "      <td>0.024739</td>\n",
       "    </tr>\n",
       "    <tr>\n",
       "      <th>2</th>\n",
       "      <td>0.033924</td>\n",
       "      <td>0.014022</td>\n",
       "      <td>-0.001727</td>\n",
       "      <td>0.000000</td>\n",
       "      <td>-0.002764</td>\n",
       "      <td>0.048552</td>\n",
       "    </tr>\n",
       "    <tr>\n",
       "      <th>3</th>\n",
       "      <td>0.008723</td>\n",
       "      <td>0.038422</td>\n",
       "      <td>0.027037</td>\n",
       "      <td>0.026592</td>\n",
       "      <td>0.003365</td>\n",
       "      <td>0.027628</td>\n",
       "    </tr>\n",
       "    <tr>\n",
       "      <th>4</th>\n",
       "      <td>-0.010667</td>\n",
       "      <td>0.001073</td>\n",
       "      <td>-0.013828</td>\n",
       "      <td>-0.005565</td>\n",
       "      <td>-0.012231</td>\n",
       "      <td>-0.019915</td>\n",
       "    </tr>\n",
       "  </tbody>\n",
       "</table>\n",
       "</div>"
      ],
      "text/plain": [
       "     Amazon     Apple      Ebay  Facebook    Google   Twitter\n",
       "0       NaN       NaN       NaN       NaN       NaN       NaN\n",
       "1 -0.028097  0.000094 -0.012827 -0.013473 -0.024832  0.024739\n",
       "2  0.033924  0.014022 -0.001727  0.000000 -0.002764  0.048552\n",
       "3  0.008723  0.038422  0.027037  0.026592  0.003365  0.027628\n",
       "4 -0.010667  0.001073 -0.013828 -0.005565 -0.012231 -0.019915"
      ]
     },
     "execution_count": 49,
     "metadata": {},
     "output_type": "execute_result"
    }
   ],
   "source": [
    "ror=(df-df.shift(1))/df.shift(1) #shift() will move our dataframe down 1 row so we can calculate the rate of return by (Ii,t − Ii,t−1)/Ii,t−1\n",
    "ror.head()"
   ]
  },
  {
   "cell_type": "markdown",
   "metadata": {
    "colab_type": "text",
    "id": "REFr8kiJIbdh"
   },
   "source": [
    "#### B. Based on the data set, compute the average returns that will be used for the optimization"
   ]
  },
  {
   "cell_type": "code",
   "execution_count": 50,
   "metadata": {
    "colab": {
     "autoexec": {
      "startup": false,
      "wait_interval": 0
     },
     "base_uri": "https://localhost:8080/",
     "height": 51
    },
    "colab_type": "code",
    "collapsed": true,
    "executionInfo": {
     "elapsed": 1138,
     "status": "ok",
     "timestamp": 1527110067432,
     "user": {
      "displayName": "Yajie Li",
      "photoUrl": "https://lh3.googleusercontent.com/a/default-user=s128",
      "userId": "105520643925225879740"
     },
     "user_tz": 420
    },
    "id": "Djr5kUlTD9J6",
    "outputId": "4a6bbd7d-3f2c-44a8-bafc-4416ff190b13"
   },
   "outputs": [],
   "source": [
    "ror=ror.iloc[1:,:] #calculate geometric mean for each column staring from row 2\n",
    "returns=stats.gmean(ror+1,axis=0)-1 #following the formula, add 1 to rate of return, then subtract 1 at the end per formula"
   ]
  },
  {
   "cell_type": "markdown",
   "metadata": {
    "colab_type": "text",
    "id": "rgQTy2clQt82"
   },
   "source": [
    "#### C. Based on the data set, compute the variance-covariance matrix of the stock returns"
   ]
  },
  {
   "cell_type": "code",
   "execution_count": 51,
   "metadata": {
    "colab": {
     "autoexec": {
      "startup": false,
      "wait_interval": 0
     },
     "base_uri": "https://localhost:8080/",
     "height": 235
    },
    "colab_type": "code",
    "executionInfo": {
     "elapsed": 290,
     "status": "ok",
     "timestamp": 1527110069480,
     "user": {
      "displayName": "Yajie Li",
      "photoUrl": "https://lh3.googleusercontent.com/a/default-user=s128",
      "userId": "105520643925225879740"
     },
     "user_tz": 420
    },
    "id": "wG74h01LD9RE",
    "outputId": "7851852b-2e0f-4fda-9a06-28431b9268bd"
   },
   "outputs": [
    {
     "data": {
      "text/html": [
       "<div>\n",
       "<style>\n",
       "    .dataframe thead tr:only-child th {\n",
       "        text-align: right;\n",
       "    }\n",
       "\n",
       "    .dataframe thead th {\n",
       "        text-align: left;\n",
       "    }\n",
       "\n",
       "    .dataframe tbody tr th {\n",
       "        vertical-align: top;\n",
       "    }\n",
       "</style>\n",
       "<table border=\"1\" class=\"dataframe\">\n",
       "  <thead>\n",
       "    <tr style=\"text-align: right;\">\n",
       "      <th></th>\n",
       "      <th>Amazon</th>\n",
       "      <th>Apple</th>\n",
       "      <th>Ebay</th>\n",
       "      <th>Facebook</th>\n",
       "      <th>Google</th>\n",
       "      <th>Twitter</th>\n",
       "    </tr>\n",
       "  </thead>\n",
       "  <tbody>\n",
       "    <tr>\n",
       "      <th>Amazon</th>\n",
       "      <td>0.000407</td>\n",
       "      <td>0.000005</td>\n",
       "      <td>0.000012</td>\n",
       "      <td>-0.000011</td>\n",
       "      <td>0.000007</td>\n",
       "      <td>-0.000095</td>\n",
       "    </tr>\n",
       "    <tr>\n",
       "      <th>Apple</th>\n",
       "      <td>0.000005</td>\n",
       "      <td>0.000211</td>\n",
       "      <td>0.000060</td>\n",
       "      <td>0.000069</td>\n",
       "      <td>0.000060</td>\n",
       "      <td>0.000040</td>\n",
       "    </tr>\n",
       "    <tr>\n",
       "      <th>Ebay</th>\n",
       "      <td>0.000012</td>\n",
       "      <td>0.000060</td>\n",
       "      <td>0.000292</td>\n",
       "      <td>0.000027</td>\n",
       "      <td>0.000055</td>\n",
       "      <td>0.000024</td>\n",
       "    </tr>\n",
       "    <tr>\n",
       "      <th>Facebook</th>\n",
       "      <td>-0.000011</td>\n",
       "      <td>0.000069</td>\n",
       "      <td>0.000027</td>\n",
       "      <td>0.000242</td>\n",
       "      <td>0.000099</td>\n",
       "      <td>0.000022</td>\n",
       "    </tr>\n",
       "    <tr>\n",
       "      <th>Google</th>\n",
       "      <td>0.000007</td>\n",
       "      <td>0.000060</td>\n",
       "      <td>0.000055</td>\n",
       "      <td>0.000099</td>\n",
       "      <td>0.000203</td>\n",
       "      <td>0.000010</td>\n",
       "    </tr>\n",
       "    <tr>\n",
       "      <th>Twitter</th>\n",
       "      <td>-0.000095</td>\n",
       "      <td>0.000040</td>\n",
       "      <td>0.000024</td>\n",
       "      <td>0.000022</td>\n",
       "      <td>0.000010</td>\n",
       "      <td>0.001071</td>\n",
       "    </tr>\n",
       "  </tbody>\n",
       "</table>\n",
       "</div>"
      ],
      "text/plain": [
       "            Amazon     Apple      Ebay  Facebook    Google   Twitter\n",
       "Amazon    0.000407  0.000005  0.000012 -0.000011  0.000007 -0.000095\n",
       "Apple     0.000005  0.000211  0.000060  0.000069  0.000060  0.000040\n",
       "Ebay      0.000012  0.000060  0.000292  0.000027  0.000055  0.000024\n",
       "Facebook -0.000011  0.000069  0.000027  0.000242  0.000099  0.000022\n",
       "Google    0.000007  0.000060  0.000055  0.000099  0.000203  0.000010\n",
       "Twitter  -0.000095  0.000040  0.000024  0.000022  0.000010  0.001071"
      ]
     },
     "execution_count": 51,
     "metadata": {},
     "output_type": "execute_result"
    }
   ],
   "source": [
    "#get the covariance matrix\n",
    "cov=ror.cov()\n",
    "cov"
   ]
  },
  {
   "cell_type": "code",
   "execution_count": 52,
   "metadata": {},
   "outputs": [
    {
     "data": {
      "text/plain": [
       "array([[ 4.07197383e-04,  4.60871516e-06,  1.22772826e-05,\n",
       "        -1.05667569e-05,  6.56723220e-06, -9.50143600e-05],\n",
       "       [ 4.60871516e-06,  2.10803738e-04,  5.99369392e-05,\n",
       "         6.94486102e-05,  6.00972703e-05,  4.03675884e-05],\n",
       "       [ 1.22772826e-05,  5.99369392e-05,  2.92036867e-04,\n",
       "         2.71083410e-05,  5.45848998e-05,  2.43589545e-05],\n",
       "       [-1.05667569e-05,  6.94486102e-05,  2.71083410e-05,\n",
       "         2.42364043e-04,  9.89613223e-05,  2.19275123e-05],\n",
       "       [ 6.56723220e-06,  6.00972703e-05,  5.45848998e-05,\n",
       "         9.89613223e-05,  2.02842223e-04,  9.65658924e-06],\n",
       "       [-9.50143600e-05,  4.03675884e-05,  2.43589545e-05,\n",
       "         2.19275123e-05,  9.65658924e-06,  1.07122641e-03]])"
      ]
     },
     "execution_count": 52,
     "metadata": {},
     "output_type": "execute_result"
    }
   ],
   "source": [
    "cov.values"
   ]
  },
  {
   "cell_type": "markdown",
   "metadata": {
    "colab_type": "text",
    "id": "R12Az-cB4pyA"
   },
   "source": [
    "#### D. Provide the vector 𝜇 and the variance-covariance matrix 𝛴 for the 6 assets considered\n",
    "\n",
    "*   vector 𝜇 is \"ror\" above.\n",
    "*   variance-covariance matrix is \"cov\" in the above.\n",
    "\n"
   ]
  },
  {
   "cell_type": "markdown",
   "metadata": {
    "colab_type": "text",
    "id": "8u6rgsFZ5SZN"
   },
   "source": [
    "### 2. Portfolio Optimization: Minimizing Risk"
   ]
  },
  {
   "cell_type": "code",
   "execution_count": 53,
   "metadata": {
    "colab": {
     "autoexec": {
      "startup": false,
      "wait_interval": 0
     },
     "base_uri": "https://localhost:8080/",
     "height": 232
    },
    "colab_type": "code",
    "executionInfo": {
     "elapsed": 474,
     "status": "error",
     "timestamp": 1527109818543,
     "user": {
      "displayName": "Yajie Li",
      "photoUrl": "https://lh3.googleusercontent.com/a/default-user=s128",
      "userId": "105520643925225879740"
     },
     "user_tz": 420
    },
    "id": "5YwBFcwC4ou2",
    "outputId": "9ed0ae39-ea44-4c61-ea1c-b834e3e85128"
   },
   "outputs": [
    {
     "name": "stdout",
     "output_type": "stream",
     "text": [
      "[[0.20426346]\n",
      " [0.19549166]\n",
      " [0.16169518]\n",
      " [0.1737573 ]\n",
      " [0.18985728]\n",
      " [0.07493513]]\n"
     ]
    }
   ],
   "source": [
    "R=0.07/250 #approx. 250 trading days per year\n",
    "mu=returns\n",
    "Cov=cov.values\n",
    "x=cvx.Variable(6)\n",
    "\n",
    "risk=quad_form(x, Cov)\n",
    "rr=sum_entries(mu*x)\n",
    "prob1 = Problem(Minimize(risk ), \n",
    "               [rr>=R,sum_entries(x) == 1, \n",
    "                x >= 0])\n",
    "prob1.solve()\n",
    "print(x.value)"
   ]
  },
  {
   "cell_type": "markdown",
   "metadata": {},
   "source": [
    "### 3. Portfolio Optimization: Maximizing Returns (or Utility)"
   ]
  },
  {
   "cell_type": "code",
   "execution_count": 54,
   "metadata": {
    "colab": {
     "autoexec": {
      "startup": false,
      "wait_interval": 0
     }
    },
    "colab_type": "code",
    "id": "fSZFjsgt4o0B"
   },
   "outputs": [
    {
     "name": "stdout",
     "output_type": "stream",
     "text": [
      "[[9.99999939e-01]\n",
      " [1.54521804e-08]\n",
      " [1.47370974e-08]\n",
      " [5.02348924e-09]\n",
      " [1.06344131e-08]\n",
      " [1.48673932e-08]]\n"
     ]
    }
   ],
   "source": [
    "gamma=0.1 \n",
    "mu=returns\n",
    "Cov=cov.values\n",
    "x=cvx.Variable(6)\n",
    "\n",
    "risk=quad_form(x, Cov)\n",
    "expected_return=sum_entries(mu*x)\n",
    "objective=Maximize(expected_return - gamma*risk) #Maximize(expected_return - expected_variance)\n",
    "prob2 = Problem(objective, \n",
    "               [sum_entries(x) == 1, \n",
    "                x >= 0])\n",
    "prob2.solve()\n",
    "print(x.value)"
   ]
  },
  {
   "cell_type": "code",
   "execution_count": 55,
   "metadata": {},
   "outputs": [
    {
     "name": "stdout",
     "output_type": "stream",
     "text": [
      "[[9.99999970e-01]\n",
      " [7.69052000e-09]\n",
      " [7.19177553e-09]\n",
      " [2.44742428e-09]\n",
      " [4.99560141e-09]\n",
      " [7.91604715e-09]]\n"
     ]
    }
   ],
   "source": [
    "gamma=0.15 \n",
    "mu=returns\n",
    "Cov=cov.values\n",
    "x=cvx.Variable(6)\n",
    "\n",
    "risk=quad_form(x, Cov)\n",
    "expected_return=sum_entries(mu*x)\n",
    "objective=Maximize(expected_return - gamma*risk) #Maximize(expected_return - expected_variance)\n",
    "prob2 = Problem(objective, \n",
    "               [sum_entries(x) == 1, \n",
    "                x >= 0])\n",
    "prob2.solve()\n",
    "print(x.value)"
   ]
  },
  {
   "cell_type": "code",
   "execution_count": 56,
   "metadata": {},
   "outputs": [
    {
     "name": "stdout",
     "output_type": "stream",
     "text": [
      "[[9.99999979e-01]\n",
      " [5.31028953e-09]\n",
      " [4.85590158e-09]\n",
      " [2.00068595e-09]\n",
      " [3.31448512e-09]\n",
      " [5.94452389e-09]]\n"
     ]
    }
   ],
   "source": [
    "gamma=0.2 \n",
    "mu=returns\n",
    "Cov=cov.values\n",
    "x=cvx.Variable(6)\n",
    "\n",
    "risk=quad_form(x, Cov)\n",
    "expected_return=sum_entries(mu*x)\n",
    "objective=Maximize(expected_return - gamma*risk) #Maximize(expected_return - expected_variance)\n",
    "prob2 = Problem(objective, \n",
    "               [sum_entries(x) == 1, \n",
    "                x >= 0])\n",
    "prob2.solve()\n",
    "print(x.value)"
   ]
  },
  {
   "cell_type": "markdown",
   "metadata": {
    "colab": {
     "autoexec": {
      "startup": false,
      "wait_interval": 0
     }
    },
    "colab_type": "code",
    "collapsed": true,
    "id": "9fQIVGId4o5w"
   },
   "source": [
    "### 4. Simulations\n",
    "Simulate the value of your portfolio after 300 trading days assuming that you have invested $100,000"
   ]
  },
  {
   "cell_type": "code",
   "execution_count": 57,
   "metadata": {},
   "outputs": [
    {
     "data": {
      "image/png": "[encoded data removed]",
      "text/plain": [
       "<matplotlib.figure.Figure at 0x11bd97978>"
      ]
     },
     "metadata": {},
     "output_type": "display_data"
    }
   ],
   "source": [
    "# Simulation\n",
    "simu=100 # I am doing 50 simulations\n",
    "T = 300 # 300 trading days\n",
    "m=6 # I have 6 assets\n",
    "B=100000 # Budget is $100,000\n",
    "z_values = []\n",
    "for q in range(simu):\n",
    "    y = np.zeros((T+1,m))\n",
    "    y[0]=[x.value.item(0),x.value.item(1),x.value.item(2),x.value.item(3),x.value.item(4),x.value.item(5)]\n",
    "    for i in range(T):\n",
    "        rr=np.random.multivariate_normal(mu,Cov)\n",
    "        y[i+1]=y[i]*(1+rr)\n",
    "    z_values.append(sum(y[T])*B)\n",
    "\n",
    "plt.hist(z_values, normed=True ) #density not working!!!!!\n",
    "plt.xlabel('Portfolio')\n",
    "plt.ylabel('Probability')\n",
    "plt.title('Histogram of Returns')\n",
    "plt.show()"
   ]
  },
  {
   "cell_type": "code",
   "execution_count": 58,
   "metadata": {},
   "outputs": [
    {
     "data": {
      "text/html": [
       "<div>\n",
       "<style>\n",
       "    .dataframe thead tr:only-child th {\n",
       "        text-align: right;\n",
       "    }\n",
       "\n",
       "    .dataframe thead th {\n",
       "        text-align: left;\n",
       "    }\n",
       "\n",
       "    .dataframe tbody tr th {\n",
       "        vertical-align: top;\n",
       "    }\n",
       "</style>\n",
       "<table border=\"1\" class=\"dataframe\">\n",
       "  <thead>\n",
       "    <tr style=\"text-align: right;\">\n",
       "      <th></th>\n",
       "      <th></th>\n",
       "      <th>value</th>\n",
       "    </tr>\n",
       "  </thead>\n",
       "  <tbody>\n",
       "    <tr>\n",
       "      <th>0</th>\n",
       "      <td>mean</td>\n",
       "      <td>1.841042e+05</td>\n",
       "    </tr>\n",
       "    <tr>\n",
       "      <th>1</th>\n",
       "      <td>var</td>\n",
       "      <td>4.223825e+09</td>\n",
       "    </tr>\n",
       "    <tr>\n",
       "      <th>2</th>\n",
       "      <td>std</td>\n",
       "      <td>6.499096e+04</td>\n",
       "    </tr>\n",
       "  </tbody>\n",
       "</table>\n",
       "</div>"
      ],
      "text/plain": [
       "                value\n",
       "0  mean  1.841042e+05\n",
       "1   var  4.223825e+09\n",
       "2   std  6.499096e+04"
      ]
     },
     "execution_count": 58,
     "metadata": {},
     "output_type": "execute_result"
    }
   ],
   "source": [
    "pd.DataFrame([['mean',np.mean(z_values)],['var',np.var(z_values)],['std',math.sqrt(np.var(z_values))]],columns=['','value'])"
   ]
  },
  {
   "cell_type": "markdown",
   "metadata": {},
   "source": [
    "### 5. Recommendations\n",
    "a. Explain the different allocations,i.e., why they are different.<br>\n",
    "b. What should an investor with risk aversion 𝛾 = 0.1 do? What about investors with 𝛾 = 0.15 and 𝛾 = 0.2?"
   ]
  },
  {
   "cell_type": "code",
   "execution_count": null,
   "metadata": {
    "collapsed": true
   },
   "outputs": [],
   "source": []
  },
  {
   "cell_type": "markdown",
   "metadata": {},
   "source": [
    "## Part B: Portfolio Optimization based on the last 400 trading days."
   ]
  },
  {
   "cell_type": "markdown",
   "metadata": {},
   "source": [
    "### 1. Preparing the data"
   ]
  },
  {
   "cell_type": "code",
   "execution_count": 59,
   "metadata": {},
   "outputs": [
    {
     "name": "stdout",
     "output_type": "stream",
     "text": [
      "(400, 6)\n"
     ]
    },
    {
     "data": {
      "text/html": [
       "<div>\n",
       "<style>\n",
       "    .dataframe thead tr:only-child th {\n",
       "        text-align: right;\n",
       "    }\n",
       "\n",
       "    .dataframe thead th {\n",
       "        text-align: left;\n",
       "    }\n",
       "\n",
       "    .dataframe tbody tr th {\n",
       "        vertical-align: top;\n",
       "    }\n",
       "</style>\n",
       "<table border=\"1\" class=\"dataframe\">\n",
       "  <thead>\n",
       "    <tr style=\"text-align: right;\">\n",
       "      <th></th>\n",
       "      <th>Amazon</th>\n",
       "      <th>Apple</th>\n",
       "      <th>Ebay</th>\n",
       "      <th>Facebook</th>\n",
       "      <th>Google</th>\n",
       "      <th>Twitter</th>\n",
       "    </tr>\n",
       "  </thead>\n",
       "  <tbody>\n",
       "    <tr>\n",
       "      <th>399</th>\n",
       "      <td>687.181</td>\n",
       "      <td>105.870003</td>\n",
       "      <td>31.059999</td>\n",
       "      <td>124.360001</td>\n",
       "      <td>797.250000</td>\n",
       "      <td>19.540001</td>\n",
       "    </tr>\n",
       "    <tr>\n",
       "      <th>400</th>\n",
       "      <td>676.851</td>\n",
       "      <td>107.480003</td>\n",
       "      <td>31.389999</td>\n",
       "      <td>125.150002</td>\n",
       "      <td>806.929993</td>\n",
       "      <td>20.860001</td>\n",
       "    </tr>\n",
       "    <tr>\n",
       "      <th>401</th>\n",
       "      <td>674.919</td>\n",
       "      <td>108.370003</td>\n",
       "      <td>31.150000</td>\n",
       "      <td>125.260002</td>\n",
       "      <td>805.229980</td>\n",
       "      <td>20.400000</td>\n",
       "    </tr>\n",
       "    <tr>\n",
       "      <th>402</th>\n",
       "      <td>685.267</td>\n",
       "      <td>108.809998</td>\n",
       "      <td>31.110001</td>\n",
       "      <td>125.059998</td>\n",
       "      <td>807.479980</td>\n",
       "      <td>20.170000</td>\n",
       "    </tr>\n",
       "    <tr>\n",
       "      <th>403</th>\n",
       "      <td>691.066</td>\n",
       "      <td>108.000000</td>\n",
       "      <td>31.120001</td>\n",
       "      <td>124.879997</td>\n",
       "      <td>808.489990</td>\n",
       "      <td>19.000000</td>\n",
       "    </tr>\n",
       "  </tbody>\n",
       "</table>\n",
       "</div>"
      ],
      "text/plain": [
       "      Amazon       Apple       Ebay    Facebook      Google    Twitter\n",
       "399  687.181  105.870003  31.059999  124.360001  797.250000  19.540001\n",
       "400  676.851  107.480003  31.389999  125.150002  806.929993  20.860001\n",
       "401  674.919  108.370003  31.150000  125.260002  805.229980  20.400000\n",
       "402  685.267  108.809998  31.110001  125.059998  807.479980  20.170000\n",
       "403  691.066  108.000000  31.120001  124.879997  808.489990  19.000000"
      ]
     },
     "execution_count": 59,
     "metadata": {},
     "output_type": "execute_result"
    }
   ],
   "source": [
    "df1=df.tail(400)\n",
    "print(df1.shape)\n",
    "df1.head()"
   ]
  },
  {
   "cell_type": "markdown",
   "metadata": {},
   "source": [
    "#### E. Based on the data set, compute the rate of returns for each stock"
   ]
  },
  {
   "cell_type": "code",
   "execution_count": 60,
   "metadata": {},
   "outputs": [
    {
     "data": {
      "text/html": [
       "<div>\n",
       "<style>\n",
       "    .dataframe thead tr:only-child th {\n",
       "        text-align: right;\n",
       "    }\n",
       "\n",
       "    .dataframe thead th {\n",
       "        text-align: left;\n",
       "    }\n",
       "\n",
       "    .dataframe tbody tr th {\n",
       "        vertical-align: top;\n",
       "    }\n",
       "</style>\n",
       "<table border=\"1\" class=\"dataframe\">\n",
       "  <thead>\n",
       "    <tr style=\"text-align: right;\">\n",
       "      <th></th>\n",
       "      <th>Amazon</th>\n",
       "      <th>Apple</th>\n",
       "      <th>Ebay</th>\n",
       "      <th>Facebook</th>\n",
       "      <th>Google</th>\n",
       "      <th>Twitter</th>\n",
       "    </tr>\n",
       "  </thead>\n",
       "  <tbody>\n",
       "    <tr>\n",
       "      <th>399</th>\n",
       "      <td>NaN</td>\n",
       "      <td>NaN</td>\n",
       "      <td>NaN</td>\n",
       "      <td>NaN</td>\n",
       "      <td>NaN</td>\n",
       "      <td>NaN</td>\n",
       "    </tr>\n",
       "    <tr>\n",
       "      <th>400</th>\n",
       "      <td>-0.015032</td>\n",
       "      <td>0.015207</td>\n",
       "      <td>0.010625</td>\n",
       "      <td>0.006353</td>\n",
       "      <td>0.012142</td>\n",
       "      <td>0.067554</td>\n",
       "    </tr>\n",
       "    <tr>\n",
       "      <th>401</th>\n",
       "      <td>-0.002854</td>\n",
       "      <td>0.008281</td>\n",
       "      <td>-0.007646</td>\n",
       "      <td>0.000879</td>\n",
       "      <td>-0.002107</td>\n",
       "      <td>-0.022052</td>\n",
       "    </tr>\n",
       "    <tr>\n",
       "      <th>402</th>\n",
       "      <td>0.015332</td>\n",
       "      <td>0.004060</td>\n",
       "      <td>-0.001284</td>\n",
       "      <td>-0.001597</td>\n",
       "      <td>0.002794</td>\n",
       "      <td>-0.011274</td>\n",
       "    </tr>\n",
       "    <tr>\n",
       "      <th>403</th>\n",
       "      <td>0.008462</td>\n",
       "      <td>-0.007444</td>\n",
       "      <td>0.000321</td>\n",
       "      <td>-0.001439</td>\n",
       "      <td>0.001251</td>\n",
       "      <td>-0.058007</td>\n",
       "    </tr>\n",
       "  </tbody>\n",
       "</table>\n",
       "</div>"
      ],
      "text/plain": [
       "       Amazon     Apple      Ebay  Facebook    Google   Twitter\n",
       "399       NaN       NaN       NaN       NaN       NaN       NaN\n",
       "400 -0.015032  0.015207  0.010625  0.006353  0.012142  0.067554\n",
       "401 -0.002854  0.008281 -0.007646  0.000879 -0.002107 -0.022052\n",
       "402  0.015332  0.004060 -0.001284 -0.001597  0.002794 -0.011274\n",
       "403  0.008462 -0.007444  0.000321 -0.001439  0.001251 -0.058007"
      ]
     },
     "execution_count": 60,
     "metadata": {},
     "output_type": "execute_result"
    }
   ],
   "source": [
    "ror1=(df1-df1.shift(1))/df1.shift(1) #shift() will move our dataframe down 1 row so we can calculate the rate of return by (Ii,t − Ii,t−1)/Ii,t−1\n",
    "ror1.head()"
   ]
  },
  {
   "cell_type": "markdown",
   "metadata": {},
   "source": [
    "#### F. Based on the data set, compute the average returns that will be used for the optimization"
   ]
  },
  {
   "cell_type": "code",
   "execution_count": 61,
   "metadata": {
    "collapsed": true
   },
   "outputs": [],
   "source": [
    "ror1=ror1.iloc[1:,:] #calculate geometric mean for each column staring from row 2\n",
    "returns1=stats.gmean(ror1+1,axis=0)-1 #following the formula, add 1 to rate of return, then subtract 1 at the end per formula"
   ]
  },
  {
   "cell_type": "markdown",
   "metadata": {},
   "source": [
    "#### G. Based on the data set, compute the variance-covariance matrix of the stock returns"
   ]
  },
  {
   "cell_type": "code",
   "execution_count": 62,
   "metadata": {},
   "outputs": [
    {
     "data": {
      "text/plain": [
       "array([[ 2.30088874e-04, -9.80656083e-06, -3.67118033e-07,\n",
       "        -2.03091049e-06, -9.31662594e-07, -3.37324041e-05],\n",
       "       [-9.80656083e-06,  1.39717164e-04,  6.59845214e-06,\n",
       "         2.84381359e-06,  6.91391549e-06, -1.06771505e-05],\n",
       "       [-3.67118033e-07,  6.59845214e-06,  2.36747967e-04,\n",
       "        -1.32110055e-05,  1.87955968e-06, -2.61970380e-05],\n",
       "       [-2.03091049e-06,  2.84381359e-06, -1.32110055e-05,\n",
       "         1.58565058e-04,  2.13809934e-05, -2.33631945e-06],\n",
       "       [-9.31662594e-07,  6.91391549e-06,  1.87955968e-06,\n",
       "         2.13809934e-05,  1.22494482e-04, -5.32303550e-06],\n",
       "       [-3.37324041e-05, -1.06771505e-05, -2.61970380e-05,\n",
       "        -2.33631945e-06, -5.32303550e-06,  1.00392215e-03]])"
      ]
     },
     "execution_count": 62,
     "metadata": {},
     "output_type": "execute_result"
    }
   ],
   "source": [
    "#get the covariance matrix\n",
    "cov1=ror1.cov()\n",
    "cov1\n",
    "cov1.values"
   ]
  },
  {
   "cell_type": "markdown",
   "metadata": {},
   "source": [
    "#### H. Provide the vector 𝜇 and the variance-covariance matrix 𝛴 for the 6 assets considered\n",
    "\n",
    "*   vector 𝜇 is \"ror1\" above.\n",
    "*   variance-covariance matrix is \"cov1\" in the above.\n",
    "\n"
   ]
  },
  {
   "cell_type": "markdown",
   "metadata": {},
   "source": [
    "### 2. Portfolio Optimization: Minimizing Risk"
   ]
  },
  {
   "cell_type": "code",
   "execution_count": 63,
   "metadata": {},
   "outputs": [
    {
     "name": "stdout",
     "output_type": "stream",
     "text": [
      "[[0.16299278]\n",
      " [0.22955644]\n",
      " [0.14732192]\n",
      " [0.18899902]\n",
      " [0.22479428]\n",
      " [0.04633557]]\n"
     ]
    }
   ],
   "source": [
    "R=0.07/250 #approx. 250 trading days per year\n",
    "mu=returns1\n",
    "Cov=cov1.values\n",
    "x=cvx.Variable(6)\n",
    "\n",
    "risk=quad_form(x, Cov)\n",
    "rr=sum_entries(mu*x)\n",
    "prob1 = Problem(Minimize(risk ), \n",
    "               [rr>=R,sum_entries(x) == 1, \n",
    "                x >= 0])\n",
    "prob1.solve()\n",
    "print(x.value)"
   ]
  },
  {
   "cell_type": "markdown",
   "metadata": {},
   "source": [
    "### 3. Portfolio Optimization: Maximizing Returns (or Utility)"
   ]
  },
  {
   "cell_type": "code",
   "execution_count": 64,
   "metadata": {},
   "outputs": [
    {
     "name": "stdout",
     "output_type": "stream",
     "text": [
      "[[6.47897905e-01]\n",
      " [5.00416242e-09]\n",
      " [4.15338077e-09]\n",
      " [3.01459947e-09]\n",
      " [3.87870205e-09]\n",
      " [3.52102078e-01]]\n"
     ]
    }
   ],
   "source": [
    "gamma=0.1 \n",
    "mu=returns1\n",
    "Cov=cov1.values\n",
    "x=cvx.Variable(6)\n",
    "\n",
    "risk=quad_form(x, Cov)\n",
    "expected_return=sum_entries(mu*x)\n",
    "objective=Maximize(expected_return - gamma*risk) #Maximize(expected_return - expected_variance)\n",
    "prob2 = Problem(objective, \n",
    "               [sum_entries(x) == 1, \n",
    "                x >= 0])\n",
    "prob2.solve()\n",
    "print(x.value)"
   ]
  },
  {
   "cell_type": "code",
   "execution_count": 65,
   "metadata": {},
   "outputs": [
    {
     "name": "stdout",
     "output_type": "stream",
     "text": [
      "[[6.97783625e-01]\n",
      " [5.15055859e-08]\n",
      " [1.09980097e-08]\n",
      " [9.64751475e-09]\n",
      " [1.05662522e-08]\n",
      " [3.02216292e-01]]\n"
     ]
    }
   ],
   "source": [
    "gamma=0.15 \n",
    "mu=returns1\n",
    "Cov=cov1.values\n",
    "x=cvx.Variable(6)\n",
    "\n",
    "risk=quad_form(x, Cov)\n",
    "expected_return=sum_entries(mu*x)\n",
    "objective=Maximize(expected_return - gamma*risk) #Maximize(expected_return - expected_variance)\n",
    "prob2 = Problem(objective, \n",
    "               [sum_entries(x) == 1, \n",
    "                x >= 0])\n",
    "prob2.solve()\n",
    "print(x.value)"
   ]
  },
  {
   "cell_type": "code",
   "execution_count": 66,
   "metadata": {},
   "outputs": [
    {
     "name": "stdout",
     "output_type": "stream",
     "text": [
      "[[7.22635548e-01]\n",
      " [8.64569172e-08]\n",
      " [1.70455134e-08]\n",
      " [2.22252471e-08]\n",
      " [1.85018276e-08]\n",
      " [2.77364307e-01]]\n"
     ]
    }
   ],
   "source": [
    "gamma=0.2 \n",
    "mu=returns1\n",
    "Cov=cov1.values\n",
    "x=cvx.Variable(6)\n",
    "\n",
    "risk=quad_form(x, Cov)\n",
    "expected_return=sum_entries(mu*x)\n",
    "objective=Maximize(expected_return - gamma*risk) #Maximize(expected_return - expected_variance)\n",
    "prob2 = Problem(objective, \n",
    "               [sum_entries(x) == 1, \n",
    "                x >= 0])\n",
    "prob2.solve()\n",
    "print(x.value)"
   ]
  },
  {
   "cell_type": "markdown",
   "metadata": {},
   "source": [
    "### 4. Simulations\n",
    "Simulate the value of your portfolio after 300 trading days assuming that you have invested $100,000"
   ]
  },
  {
   "cell_type": "code",
   "execution_count": 67,
   "metadata": {},
   "outputs": [
    {
     "data": {
      "image/png": "[encoded data removed]",
      "text/plain": [
       "<matplotlib.figure.Figure at 0x11bd972e8>"
      ]
     },
     "metadata": {},
     "output_type": "display_data"
    }
   ],
   "source": [
    "# Simulation\n",
    "simu=100 # I am doing 50 simulations\n",
    "T = 300 # 300 trading days\n",
    "m=6 # I have 6 assets\n",
    "B=100000 # Budget is $100,000\n",
    "z_values = []\n",
    "for q in range(simu):\n",
    "    y = np.zeros((T+1,m))\n",
    "    y[0]=[x.value.item(0),x.value.item(1),x.value.item(2),x.value.item(3),x.value.item(4),x.value.item(5)]\n",
    "    for i in range(T):\n",
    "        rr=np.random.multivariate_normal(mu,Cov)\n",
    "        y[i+1]=y[i]*(1+rr)\n",
    "    z_values.append(sum(y[T])*B)\n",
    "\n",
    "plt.hist(z_values, normed=True ) #density not working!!!!!\n",
    "plt.xlabel('Portfolio')\n",
    "plt.ylabel('Probability')\n",
    "plt.title('Histogram of Returns')\n",
    "plt.show()"
   ]
  },
  {
   "cell_type": "code",
   "execution_count": 68,
   "metadata": {},
   "outputs": [
    {
     "data": {
      "text/html": [
       "<div>\n",
       "<style>\n",
       "    .dataframe thead tr:only-child th {\n",
       "        text-align: right;\n",
       "    }\n",
       "\n",
       "    .dataframe thead th {\n",
       "        text-align: left;\n",
       "    }\n",
       "\n",
       "    .dataframe tbody tr th {\n",
       "        vertical-align: top;\n",
       "    }\n",
       "</style>\n",
       "<table border=\"1\" class=\"dataframe\">\n",
       "  <thead>\n",
       "    <tr style=\"text-align: right;\">\n",
       "      <th></th>\n",
       "      <th></th>\n",
       "      <th>value</th>\n",
       "    </tr>\n",
       "  </thead>\n",
       "  <tbody>\n",
       "    <tr>\n",
       "      <th>0</th>\n",
       "      <td>mean</td>\n",
       "      <td>1.525373e+05</td>\n",
       "    </tr>\n",
       "    <tr>\n",
       "      <th>1</th>\n",
       "      <td>var</td>\n",
       "      <td>1.287850e+09</td>\n",
       "    </tr>\n",
       "    <tr>\n",
       "      <th>2</th>\n",
       "      <td>std</td>\n",
       "      <td>3.588662e+04</td>\n",
       "    </tr>\n",
       "  </tbody>\n",
       "</table>\n",
       "</div>"
      ],
      "text/plain": [
       "                value\n",
       "0  mean  1.525373e+05\n",
       "1   var  1.287850e+09\n",
       "2   std  3.588662e+04"
      ]
     },
     "execution_count": 68,
     "metadata": {},
     "output_type": "execute_result"
    }
   ],
   "source": [
    "pd.DataFrame([['mean',np.mean(z_values)],['var',np.var(z_values)],['std',math.sqrt(np.var(z_values))]],columns=['','value'])"
   ]
  },
  {
   "cell_type": "markdown",
   "metadata": {},
   "source": [
    "### 5. Recommendations\n",
    "a. Explain the different allocations,i.e., why they are different.<br>\n",
    "b. What should an investor with risk aversion 𝛾 = 0.1 do? What about investors with 𝛾 = 0.15 and 𝛾 = 0.2?"
   ]
  },
  {
   "cell_type": "code",
   "execution_count": null,
   "metadata": {
    "collapsed": true
   },
   "outputs": [],
   "source": []
  }
 ],
 "metadata": {
  "colab": {
   "collapsed_sections": [],
   "default_view": {},
   "name": "YajieLi_BAX443_HW2.ipynb",
   "provenance": [],
   "version": "0.3.2",
   "views": {}
  },
  "kernelspec": {
   "display_name": "Python 3",
   "language": "python",
   "name": "python3"
  },
  "language_info": {
   "codemirror_mode": {
    "name": "ipython",
    "version": 3
   },
   "file_extension": ".py",
   "mimetype": "text/x-python",
   "name": "python",
   "nbconvert_exporter": "python",
   "pygments_lexer": "ipython3",
   "version": "3.6.3"
  }
 },
 "nbformat": 4,
 "nbformat_minor": 1
}
