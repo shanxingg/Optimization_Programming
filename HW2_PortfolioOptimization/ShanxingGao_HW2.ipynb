{
 "cells": [
  {
   "cell_type": "code",
   "execution_count": 1,
   "metadata": {
    "collapsed": true
   },
   "outputs": [],
   "source": [
    "import numpy as np\n",
    "import pandas as pd; pd.options.display.float_format = '{:.5f}'.format\n",
    "from scipy import stats\n",
    "import math\n",
    "import cvxpy as cvx\n",
    "from numpy import matrix \n",
    "from cvxpy import *\n",
    "from itertools import chain\n",
    "import matplotlib.pyplot as plt"
   ]
  },
  {
   "cell_type": "markdown",
   "metadata": {},
   "source": [
    "## Part A: Portfolio Optimization based on the Full Data Set"
   ]
  },
  {
   "cell_type": "markdown",
   "metadata": {},
   "source": [
    "### 1. Preparing the data"
   ]
  },
  {
   "cell_type": "code",
   "execution_count": 2,
   "metadata": {},
   "outputs": [
    {
     "data": {
      "text/html": [
       "<div>\n",
       "<style>\n",
       "    .dataframe thead tr:only-child th {\n",
       "        text-align: right;\n",
       "    }\n",
       "\n",
       "    .dataframe thead th {\n",
       "        text-align: left;\n",
       "    }\n",
       "\n",
       "    .dataframe tbody tr th {\n",
       "        vertical-align: top;\n",
       "    }\n",
       "</style>\n",
       "<table border=\"1\" class=\"dataframe\">\n",
       "  <thead>\n",
       "    <tr style=\"text-align: right;\">\n",
       "      <th></th>\n",
       "      <th>Amazon</th>\n",
       "      <th>Apple</th>\n",
       "      <th>Ebay</th>\n",
       "      <th>Facebook</th>\n",
       "      <th>Google</th>\n",
       "      <th>Twitter</th>\n",
       "    </tr>\n",
       "  </thead>\n",
       "  <tbody>\n",
       "    <tr>\n",
       "      <th>0</th>\n",
       "      <td>252.58500</td>\n",
       "      <td>106.25000</td>\n",
       "      <td>23.45760</td>\n",
       "      <td>77.19000</td>\n",
       "      <td>519.50000</td>\n",
       "      <td>36.38000</td>\n",
       "    </tr>\n",
       "    <tr>\n",
       "      <th>1</th>\n",
       "      <td>245.48800</td>\n",
       "      <td>106.26000</td>\n",
       "      <td>23.15670</td>\n",
       "      <td>76.15000</td>\n",
       "      <td>506.60001</td>\n",
       "      <td>37.28000</td>\n",
       "    </tr>\n",
       "    <tr>\n",
       "      <th>2</th>\n",
       "      <td>253.81600</td>\n",
       "      <td>107.75000</td>\n",
       "      <td>23.11670</td>\n",
       "      <td>76.15000</td>\n",
       "      <td>505.20001</td>\n",
       "      <td>39.09000</td>\n",
       "    </tr>\n",
       "    <tr>\n",
       "      <th>3</th>\n",
       "      <td>256.03000</td>\n",
       "      <td>111.89000</td>\n",
       "      <td>23.74170</td>\n",
       "      <td>78.17500</td>\n",
       "      <td>506.89999</td>\n",
       "      <td>40.17000</td>\n",
       "    </tr>\n",
       "    <tr>\n",
       "      <th>4</th>\n",
       "      <td>253.29900</td>\n",
       "      <td>112.01000</td>\n",
       "      <td>23.41340</td>\n",
       "      <td>77.74000</td>\n",
       "      <td>500.70001</td>\n",
       "      <td>39.37000</td>\n",
       "    </tr>\n",
       "  </tbody>\n",
       "</table>\n",
       "</div>"
      ],
      "text/plain": [
       "     Amazon     Apple     Ebay  Facebook    Google  Twitter\n",
       "0 252.58500 106.25000 23.45760  77.19000 519.50000 36.38000\n",
       "1 245.48800 106.26000 23.15670  76.15000 506.60001 37.28000\n",
       "2 253.81600 107.75000 23.11670  76.15000 505.20001 39.09000\n",
       "3 256.03000 111.89000 23.74170  78.17500 506.89999 40.17000\n",
       "4 253.29900 112.01000 23.41340  77.74000 500.70001 39.37000"
      ]
     },
     "execution_count": 2,
     "metadata": {},
     "output_type": "execute_result"
    }
   ],
   "source": [
    "stocks = pd.read_excel('datahomework2.xls')\n",
    "stocks.head()"
   ]
  },
  {
   "cell_type": "markdown",
   "metadata": {},
   "source": [
    "#### A. Based on the data set, compute the rate of returns for each stock"
   ]
  },
  {
   "cell_type": "code",
   "execution_count": 3,
   "metadata": {},
   "outputs": [
    {
     "data": {
      "text/html": [
       "<div>\n",
       "<style>\n",
       "    .dataframe thead tr:only-child th {\n",
       "        text-align: right;\n",
       "    }\n",
       "\n",
       "    .dataframe thead th {\n",
       "        text-align: left;\n",
       "    }\n",
       "\n",
       "    .dataframe tbody tr th {\n",
       "        vertical-align: top;\n",
       "    }\n",
       "</style>\n",
       "<table border=\"1\" class=\"dataframe\">\n",
       "  <thead>\n",
       "    <tr style=\"text-align: right;\">\n",
       "      <th></th>\n",
       "      <th>Amazon</th>\n",
       "      <th>Apple</th>\n",
       "      <th>Ebay</th>\n",
       "      <th>Facebook</th>\n",
       "      <th>Google</th>\n",
       "      <th>Twitter</th>\n",
       "    </tr>\n",
       "  </thead>\n",
       "  <tbody>\n",
       "    <tr>\n",
       "      <th>0</th>\n",
       "      <td>-0.02810</td>\n",
       "      <td>0.00009</td>\n",
       "      <td>-0.01283</td>\n",
       "      <td>-0.01347</td>\n",
       "      <td>-0.02483</td>\n",
       "      <td>0.02474</td>\n",
       "    </tr>\n",
       "    <tr>\n",
       "      <th>1</th>\n",
       "      <td>0.03392</td>\n",
       "      <td>0.01402</td>\n",
       "      <td>-0.00173</td>\n",
       "      <td>0.00000</td>\n",
       "      <td>-0.00276</td>\n",
       "      <td>0.04855</td>\n",
       "    </tr>\n",
       "    <tr>\n",
       "      <th>2</th>\n",
       "      <td>0.00872</td>\n",
       "      <td>0.03842</td>\n",
       "      <td>0.02704</td>\n",
       "      <td>0.02659</td>\n",
       "      <td>0.00336</td>\n",
       "      <td>0.02763</td>\n",
       "    </tr>\n",
       "    <tr>\n",
       "      <th>3</th>\n",
       "      <td>-0.01067</td>\n",
       "      <td>0.00107</td>\n",
       "      <td>-0.01383</td>\n",
       "      <td>-0.00556</td>\n",
       "      <td>-0.01223</td>\n",
       "      <td>-0.01992</td>\n",
       "    </tr>\n",
       "    <tr>\n",
       "      <th>4</th>\n",
       "      <td>-0.02846</td>\n",
       "      <td>-0.02464</td>\n",
       "      <td>-0.00773</td>\n",
       "      <td>-0.01312</td>\n",
       "      <td>-0.00719</td>\n",
       "      <td>0.00711</td>\n",
       "    </tr>\n",
       "  </tbody>\n",
       "</table>\n",
       "</div>"
      ],
      "text/plain": [
       "    Amazon    Apple     Ebay  Facebook   Google  Twitter\n",
       "0 -0.02810  0.00009 -0.01283  -0.01347 -0.02483  0.02474\n",
       "1  0.03392  0.01402 -0.00173   0.00000 -0.00276  0.04855\n",
       "2  0.00872  0.03842  0.02704   0.02659  0.00336  0.02763\n",
       "3 -0.01067  0.00107 -0.01383  -0.00556 -0.01223 -0.01992\n",
       "4 -0.02846 -0.02464 -0.00773  -0.01312 -0.00719  0.00711"
      ]
     },
     "execution_count": 3,
     "metadata": {},
     "output_type": "execute_result"
    }
   ],
   "source": [
    "rate_returns = (stocks.shift(-1) - stocks)/stocks\n",
    "rate_returns.dropna(inplace=True)\n",
    "rate_returns.head()"
   ]
  },
  {
   "cell_type": "markdown",
   "metadata": {},
   "source": [
    "#### B. Based on the data set, compute the average returns that will be used for the optimization"
   ]
  },
  {
   "cell_type": "code",
   "execution_count": 4,
   "metadata": {},
   "outputs": [
    {
     "data": {
      "text/plain": [
       "array([  1.98778605e-03,   6.25712685e-04,   7.54726158e-04,\n",
       "         1.08819147e-03,   9.73603071e-04,  -2.78636077e-05])"
      ]
     },
     "execution_count": 4,
     "metadata": {},
     "output_type": "execute_result"
    }
   ],
   "source": [
    "avg_returns = stats.gmean(rate_returns+1, axis=0)-1\n",
    "avg_returns"
   ]
  },
  {
   "cell_type": "markdown",
   "metadata": {},
   "source": [
    "#### C. Based on the data set, compute the variance-covariance matrix of the stock returns"
   ]
  },
  {
   "cell_type": "code",
   "execution_count": 5,
   "metadata": {},
   "outputs": [
    {
     "data": {
      "text/html": [
       "<div>\n",
       "<style>\n",
       "    .dataframe thead tr:only-child th {\n",
       "        text-align: right;\n",
       "    }\n",
       "\n",
       "    .dataframe thead th {\n",
       "        text-align: left;\n",
       "    }\n",
       "\n",
       "    .dataframe tbody tr th {\n",
       "        vertical-align: top;\n",
       "    }\n",
       "</style>\n",
       "<table border=\"1\" class=\"dataframe\">\n",
       "  <thead>\n",
       "    <tr style=\"text-align: right;\">\n",
       "      <th></th>\n",
       "      <th>Amazon</th>\n",
       "      <th>Apple</th>\n",
       "      <th>Ebay</th>\n",
       "      <th>Facebook</th>\n",
       "      <th>Google</th>\n",
       "      <th>Twitter</th>\n",
       "    </tr>\n",
       "  </thead>\n",
       "  <tbody>\n",
       "    <tr>\n",
       "      <th>Amazon</th>\n",
       "      <td>0.00041</td>\n",
       "      <td>0.00000</td>\n",
       "      <td>0.00001</td>\n",
       "      <td>-0.00001</td>\n",
       "      <td>0.00001</td>\n",
       "      <td>-0.00010</td>\n",
       "    </tr>\n",
       "    <tr>\n",
       "      <th>Apple</th>\n",
       "      <td>0.00000</td>\n",
       "      <td>0.00021</td>\n",
       "      <td>0.00006</td>\n",
       "      <td>0.00007</td>\n",
       "      <td>0.00006</td>\n",
       "      <td>0.00004</td>\n",
       "    </tr>\n",
       "    <tr>\n",
       "      <th>Ebay</th>\n",
       "      <td>0.00001</td>\n",
       "      <td>0.00006</td>\n",
       "      <td>0.00029</td>\n",
       "      <td>0.00003</td>\n",
       "      <td>0.00005</td>\n",
       "      <td>0.00002</td>\n",
       "    </tr>\n",
       "    <tr>\n",
       "      <th>Facebook</th>\n",
       "      <td>-0.00001</td>\n",
       "      <td>0.00007</td>\n",
       "      <td>0.00003</td>\n",
       "      <td>0.00024</td>\n",
       "      <td>0.00010</td>\n",
       "      <td>0.00002</td>\n",
       "    </tr>\n",
       "    <tr>\n",
       "      <th>Google</th>\n",
       "      <td>0.00001</td>\n",
       "      <td>0.00006</td>\n",
       "      <td>0.00005</td>\n",
       "      <td>0.00010</td>\n",
       "      <td>0.00020</td>\n",
       "      <td>0.00001</td>\n",
       "    </tr>\n",
       "    <tr>\n",
       "      <th>Twitter</th>\n",
       "      <td>-0.00010</td>\n",
       "      <td>0.00004</td>\n",
       "      <td>0.00002</td>\n",
       "      <td>0.00002</td>\n",
       "      <td>0.00001</td>\n",
       "      <td>0.00107</td>\n",
       "    </tr>\n",
       "  </tbody>\n",
       "</table>\n",
       "</div>"
      ],
      "text/plain": [
       "           Amazon   Apple    Ebay  Facebook  Google  Twitter\n",
       "Amazon    0.00041 0.00000 0.00001  -0.00001 0.00001 -0.00010\n",
       "Apple     0.00000 0.00021 0.00006   0.00007 0.00006  0.00004\n",
       "Ebay      0.00001 0.00006 0.00029   0.00003 0.00005  0.00002\n",
       "Facebook -0.00001 0.00007 0.00003   0.00024 0.00010  0.00002\n",
       "Google    0.00001 0.00006 0.00005   0.00010 0.00020  0.00001\n",
       "Twitter  -0.00010 0.00004 0.00002   0.00002 0.00001  0.00107"
      ]
     },
     "execution_count": 5,
     "metadata": {},
     "output_type": "execute_result"
    }
   ],
   "source": [
    "covariance_matrix = rate_returns.cov()\n",
    "covariance_matrix"
   ]
  },
  {
   "cell_type": "markdown",
   "metadata": {},
   "source": [
    "#### D. Provide the vector 𝜇 and the variance-covariance matrix 𝛴 for the 6 assets considered"
   ]
  },
  {
   "cell_type": "code",
   "execution_count": 6,
   "metadata": {},
   "outputs": [
    {
     "name": "stdout",
     "output_type": "stream",
     "text": [
      "the vector 𝜇 = rate_returns:\n"
     ]
    },
    {
     "data": {
      "text/html": [
       "<div>\n",
       "<style>\n",
       "    .dataframe thead tr:only-child th {\n",
       "        text-align: right;\n",
       "    }\n",
       "\n",
       "    .dataframe thead th {\n",
       "        text-align: left;\n",
       "    }\n",
       "\n",
       "    .dataframe tbody tr th {\n",
       "        vertical-align: top;\n",
       "    }\n",
       "</style>\n",
       "<table border=\"1\" class=\"dataframe\">\n",
       "  <thead>\n",
       "    <tr style=\"text-align: right;\">\n",
       "      <th></th>\n",
       "      <th>Amazon</th>\n",
       "      <th>Apple</th>\n",
       "      <th>Ebay</th>\n",
       "      <th>Facebook</th>\n",
       "      <th>Google</th>\n",
       "      <th>Twitter</th>\n",
       "    </tr>\n",
       "  </thead>\n",
       "  <tbody>\n",
       "    <tr>\n",
       "      <th>0</th>\n",
       "      <td>-0.02810</td>\n",
       "      <td>0.00009</td>\n",
       "      <td>-0.01283</td>\n",
       "      <td>-0.01347</td>\n",
       "      <td>-0.02483</td>\n",
       "      <td>0.02474</td>\n",
       "    </tr>\n",
       "    <tr>\n",
       "      <th>1</th>\n",
       "      <td>0.03392</td>\n",
       "      <td>0.01402</td>\n",
       "      <td>-0.00173</td>\n",
       "      <td>0.00000</td>\n",
       "      <td>-0.00276</td>\n",
       "      <td>0.04855</td>\n",
       "    </tr>\n",
       "    <tr>\n",
       "      <th>2</th>\n",
       "      <td>0.00872</td>\n",
       "      <td>0.03842</td>\n",
       "      <td>0.02704</td>\n",
       "      <td>0.02659</td>\n",
       "      <td>0.00336</td>\n",
       "      <td>0.02763</td>\n",
       "    </tr>\n",
       "    <tr>\n",
       "      <th>3</th>\n",
       "      <td>-0.01067</td>\n",
       "      <td>0.00107</td>\n",
       "      <td>-0.01383</td>\n",
       "      <td>-0.00556</td>\n",
       "      <td>-0.01223</td>\n",
       "      <td>-0.01992</td>\n",
       "    </tr>\n",
       "    <tr>\n",
       "      <th>4</th>\n",
       "      <td>-0.02846</td>\n",
       "      <td>-0.02464</td>\n",
       "      <td>-0.00773</td>\n",
       "      <td>-0.01312</td>\n",
       "      <td>-0.00719</td>\n",
       "      <td>0.00711</td>\n",
       "    </tr>\n",
       "  </tbody>\n",
       "</table>\n",
       "</div>"
      ],
      "text/plain": [
       "    Amazon    Apple     Ebay  Facebook   Google  Twitter\n",
       "0 -0.02810  0.00009 -0.01283  -0.01347 -0.02483  0.02474\n",
       "1  0.03392  0.01402 -0.00173   0.00000 -0.00276  0.04855\n",
       "2  0.00872  0.03842  0.02704   0.02659  0.00336  0.02763\n",
       "3 -0.01067  0.00107 -0.01383  -0.00556 -0.01223 -0.01992\n",
       "4 -0.02846 -0.02464 -0.00773  -0.01312 -0.00719  0.00711"
      ]
     },
     "execution_count": 6,
     "metadata": {},
     "output_type": "execute_result"
    }
   ],
   "source": [
    "# the vector 𝜇 = rate_returns\n",
    "print('the vector 𝜇 = rate_returns:')\n",
    "rate_returns.head()"
   ]
  },
  {
   "cell_type": "code",
   "execution_count": 7,
   "metadata": {},
   "outputs": [
    {
     "name": "stdout",
     "output_type": "stream",
     "text": [
      "the variance-covariance matrix = covariance_matrix:\n"
     ]
    },
    {
     "data": {
      "text/html": [
       "<div>\n",
       "<style>\n",
       "    .dataframe thead tr:only-child th {\n",
       "        text-align: right;\n",
       "    }\n",
       "\n",
       "    .dataframe thead th {\n",
       "        text-align: left;\n",
       "    }\n",
       "\n",
       "    .dataframe tbody tr th {\n",
       "        vertical-align: top;\n",
       "    }\n",
       "</style>\n",
       "<table border=\"1\" class=\"dataframe\">\n",
       "  <thead>\n",
       "    <tr style=\"text-align: right;\">\n",
       "      <th></th>\n",
       "      <th>Amazon</th>\n",
       "      <th>Apple</th>\n",
       "      <th>Ebay</th>\n",
       "      <th>Facebook</th>\n",
       "      <th>Google</th>\n",
       "      <th>Twitter</th>\n",
       "    </tr>\n",
       "  </thead>\n",
       "  <tbody>\n",
       "    <tr>\n",
       "      <th>Amazon</th>\n",
       "      <td>0.00041</td>\n",
       "      <td>0.00000</td>\n",
       "      <td>0.00001</td>\n",
       "      <td>-0.00001</td>\n",
       "      <td>0.00001</td>\n",
       "      <td>-0.00010</td>\n",
       "    </tr>\n",
       "    <tr>\n",
       "      <th>Apple</th>\n",
       "      <td>0.00000</td>\n",
       "      <td>0.00021</td>\n",
       "      <td>0.00006</td>\n",
       "      <td>0.00007</td>\n",
       "      <td>0.00006</td>\n",
       "      <td>0.00004</td>\n",
       "    </tr>\n",
       "    <tr>\n",
       "      <th>Ebay</th>\n",
       "      <td>0.00001</td>\n",
       "      <td>0.00006</td>\n",
       "      <td>0.00029</td>\n",
       "      <td>0.00003</td>\n",
       "      <td>0.00005</td>\n",
       "      <td>0.00002</td>\n",
       "    </tr>\n",
       "    <tr>\n",
       "      <th>Facebook</th>\n",
       "      <td>-0.00001</td>\n",
       "      <td>0.00007</td>\n",
       "      <td>0.00003</td>\n",
       "      <td>0.00024</td>\n",
       "      <td>0.00010</td>\n",
       "      <td>0.00002</td>\n",
       "    </tr>\n",
       "    <tr>\n",
       "      <th>Google</th>\n",
       "      <td>0.00001</td>\n",
       "      <td>0.00006</td>\n",
       "      <td>0.00005</td>\n",
       "      <td>0.00010</td>\n",
       "      <td>0.00020</td>\n",
       "      <td>0.00001</td>\n",
       "    </tr>\n",
       "    <tr>\n",
       "      <th>Twitter</th>\n",
       "      <td>-0.00010</td>\n",
       "      <td>0.00004</td>\n",
       "      <td>0.00002</td>\n",
       "      <td>0.00002</td>\n",
       "      <td>0.00001</td>\n",
       "      <td>0.00107</td>\n",
       "    </tr>\n",
       "  </tbody>\n",
       "</table>\n",
       "</div>"
      ],
      "text/plain": [
       "           Amazon   Apple    Ebay  Facebook  Google  Twitter\n",
       "Amazon    0.00041 0.00000 0.00001  -0.00001 0.00001 -0.00010\n",
       "Apple     0.00000 0.00021 0.00006   0.00007 0.00006  0.00004\n",
       "Ebay      0.00001 0.00006 0.00029   0.00003 0.00005  0.00002\n",
       "Facebook -0.00001 0.00007 0.00003   0.00024 0.00010  0.00002\n",
       "Google    0.00001 0.00006 0.00005   0.00010 0.00020  0.00001\n",
       "Twitter  -0.00010 0.00004 0.00002   0.00002 0.00001  0.00107"
      ]
     },
     "execution_count": 7,
     "metadata": {},
     "output_type": "execute_result"
    }
   ],
   "source": [
    "# the variance-covariance matrix = covariance_matrix\n",
    "print('the variance-covariance matrix = covariance_matrix:')\n",
    "covariance_matrix"
   ]
  },
  {
   "cell_type": "markdown",
   "metadata": {},
   "source": [
    "### 2. Portfolio Optimization: Minimizing Risk"
   ]
  },
  {
   "cell_type": "code",
   "execution_count": 8,
   "metadata": {},
   "outputs": [
    {
     "name": "stdout",
     "output_type": "stream",
     "text": [
      "the optimum value is: 8e-05\n"
     ]
    },
    {
     "data": {
      "text/html": [
       "<div>\n",
       "<style>\n",
       "    .dataframe thead tr:only-child th {\n",
       "        text-align: right;\n",
       "    }\n",
       "\n",
       "    .dataframe thead th {\n",
       "        text-align: left;\n",
       "    }\n",
       "\n",
       "    .dataframe tbody tr th {\n",
       "        vertical-align: top;\n",
       "    }\n",
       "</style>\n",
       "<table border=\"1\" class=\"dataframe\">\n",
       "  <thead>\n",
       "    <tr style=\"text-align: right;\">\n",
       "      <th></th>\n",
       "      <th>Amazon</th>\n",
       "      <th>Apple</th>\n",
       "      <th>Ebay</th>\n",
       "      <th>Facebook</th>\n",
       "      <th>Google</th>\n",
       "      <th>Twitter</th>\n",
       "    </tr>\n",
       "  </thead>\n",
       "  <tbody>\n",
       "    <tr>\n",
       "      <th>Allocation</th>\n",
       "      <td>0.20426</td>\n",
       "      <td>0.19549</td>\n",
       "      <td>0.16170</td>\n",
       "      <td>0.17376</td>\n",
       "      <td>0.18986</td>\n",
       "      <td>0.07494</td>\n",
       "    </tr>\n",
       "  </tbody>\n",
       "</table>\n",
       "</div>"
      ],
      "text/plain": [
       "            Amazon   Apple    Ebay  Facebook  Google  Twitter\n",
       "Allocation 0.20426 0.19549 0.16170   0.17376 0.18986  0.07494"
      ]
     },
     "execution_count": 8,
     "metadata": {},
     "output_type": "execute_result"
    }
   ],
   "source": [
    "R = 0.07/250\n",
    "mu = avg_returns\n",
    "Cov = covariance_matrix.values\n",
    "x = cvx.Variable(6)\n",
    "\n",
    "risk = quad_form(x, Cov)\n",
    "rr = sum_entries(mu*x)\n",
    "prob1 = Problem(Minimize(risk), \n",
    "               [rr >= R,sum_entries(x) == 1, \n",
    "                x >= 0])\n",
    "prob1.solve()\n",
    "\n",
    "allocation_min_risk = pd.DataFrame(x.value.T, columns = stocks.columns, index = ['Allocation'])\n",
    "print(f'the optimum value is: {round(prob1.value, 5)}')\n",
    "allocation_min_risk"
   ]
  },
  {
   "cell_type": "markdown",
   "metadata": {},
   "source": [
    "### 3. Portfolio Optimization: Maximizing Returns (or Utility)"
   ]
  },
  {
   "cell_type": "code",
   "execution_count": 9,
   "metadata": {},
   "outputs": [
    {
     "data": {
      "text/html": [
       "<div>\n",
       "<style>\n",
       "    .dataframe thead tr:only-child th {\n",
       "        text-align: right;\n",
       "    }\n",
       "\n",
       "    .dataframe thead th {\n",
       "        text-align: left;\n",
       "    }\n",
       "\n",
       "    .dataframe tbody tr th {\n",
       "        vertical-align: top;\n",
       "    }\n",
       "</style>\n",
       "<table border=\"1\" class=\"dataframe\">\n",
       "  <thead>\n",
       "    <tr style=\"text-align: right;\">\n",
       "      <th></th>\n",
       "      <th>Amazon</th>\n",
       "      <th>Apple</th>\n",
       "      <th>Ebay</th>\n",
       "      <th>Facebook</th>\n",
       "      <th>Google</th>\n",
       "      <th>Twitter</th>\n",
       "      <th>optimum_value</th>\n",
       "    </tr>\n",
       "  </thead>\n",
       "  <tbody>\n",
       "    <tr>\n",
       "      <th>𝛾=0.1</th>\n",
       "      <td>1.00000</td>\n",
       "      <td>0.00000</td>\n",
       "      <td>0.00000</td>\n",
       "      <td>0.00000</td>\n",
       "      <td>0.00000</td>\n",
       "      <td>0.00000</td>\n",
       "      <td>0.00195</td>\n",
       "    </tr>\n",
       "    <tr>\n",
       "      <th>𝛾=0.15</th>\n",
       "      <td>1.00000</td>\n",
       "      <td>0.00000</td>\n",
       "      <td>0.00000</td>\n",
       "      <td>0.00000</td>\n",
       "      <td>0.00000</td>\n",
       "      <td>0.00000</td>\n",
       "      <td>0.00193</td>\n",
       "    </tr>\n",
       "    <tr>\n",
       "      <th>𝛾=0.2</th>\n",
       "      <td>1.00000</td>\n",
       "      <td>0.00000</td>\n",
       "      <td>0.00000</td>\n",
       "      <td>0.00000</td>\n",
       "      <td>0.00000</td>\n",
       "      <td>0.00000</td>\n",
       "      <td>0.00191</td>\n",
       "    </tr>\n",
       "  </tbody>\n",
       "</table>\n",
       "</div>"
      ],
      "text/plain": [
       "        Amazon   Apple    Ebay  Facebook  Google  Twitter  optimum_value\n",
       "𝛾=0.1  1.00000 0.00000 0.00000   0.00000 0.00000  0.00000        0.00195\n",
       "𝛾=0.15 1.00000 0.00000 0.00000   0.00000 0.00000  0.00000        0.00193\n",
       "𝛾=0.2  1.00000 0.00000 0.00000   0.00000 0.00000  0.00000        0.00191"
      ]
     },
     "execution_count": 9,
     "metadata": {},
     "output_type": "execute_result"
    }
   ],
   "source": [
    "gamma = [0.10, 0.15, 0.20]\n",
    "mu = avg_returns\n",
    "Cov = covariance_matrix.values\n",
    "x = cvx.Variable(6)\n",
    "\n",
    "risk = quad_form(x, Cov)\n",
    "rr = sum_entries(mu*x)\n",
    "\n",
    "allocation_max_returns_list = []\n",
    "optimum_value = []\n",
    "for g in gamma:\n",
    "    prob2 = Problem(Maximize(rr - g*risk), \n",
    "                   [sum_entries(x) == 1, \n",
    "                    x >= 0])\n",
    "    prob2.solve()\n",
    "\n",
    "    allocation_max_returns_list.append(pd.DataFrame(x.value.T))\n",
    "    optimum_value.append(prob2.value)\n",
    "    \n",
    "allocation_max_returns = pd.concat([allocation_max_returns_list[0], allocation_max_returns_list[1], allocation_max_returns_list[2]])\n",
    "allocation_max_returns.columns = stocks.columns\n",
    "allocation_max_returns.index = list(map(lambda x: '𝛾='+ str(x), gamma))\n",
    "allocation_max_returns['optimum_value'] = optimum_value\n",
    "\n",
    "allocation_max_returns"
   ]
  },
  {
   "cell_type": "markdown",
   "metadata": {},
   "source": [
    "### 4. Simulations"
   ]
  },
  {
   "cell_type": "markdown",
   "metadata": {},
   "source": [
    "#### Portfolio Optimization: Minimizing Risk"
   ]
  },
  {
   "cell_type": "code",
   "execution_count": 10,
   "metadata": {},
   "outputs": [
    {
     "data": {
      "text/html": [
       "<div>\n",
       "<style>\n",
       "    .dataframe thead tr:only-child th {\n",
       "        text-align: right;\n",
       "    }\n",
       "\n",
       "    .dataframe thead th {\n",
       "        text-align: left;\n",
       "    }\n",
       "\n",
       "    .dataframe tbody tr th {\n",
       "        vertical-align: top;\n",
       "    }\n",
       "</style>\n",
       "<table border=\"1\" class=\"dataframe\">\n",
       "  <thead>\n",
       "    <tr style=\"text-align: right;\">\n",
       "      <th></th>\n",
       "      <th>dollars</th>\n",
       "    </tr>\n",
       "  </thead>\n",
       "  <tbody>\n",
       "    <tr>\n",
       "      <th>mean</th>\n",
       "      <td>137394.34954</td>\n",
       "    </tr>\n",
       "    <tr>\n",
       "      <th>var</th>\n",
       "      <td>459529110.42732</td>\n",
       "    </tr>\n",
       "    <tr>\n",
       "      <th>sd</th>\n",
       "      <td>21436.63011</td>\n",
       "    </tr>\n",
       "  </tbody>\n",
       "</table>\n",
       "</div>"
      ],
      "text/plain": [
       "             dollars\n",
       "mean    137394.34954\n",
       "var  459529110.42732\n",
       "sd       21436.63011"
      ]
     },
     "execution_count": 10,
     "metadata": {},
     "output_type": "execute_result"
    }
   ],
   "source": [
    "simu = 1000 # I am doing 1000 simulations\n",
    "T = 300 # 300 trading days\n",
    "m = 6 # I have 6 assets\n",
    "B = 100000 # Budget is $100000\n",
    "z_values = []\n",
    "for q in range(simu):\n",
    "    y = np.zeros((T+1,m))\n",
    "    y[0] = allocation_min_risk\n",
    "    for i in range(T):\n",
    "        rr = np.random.multivariate_normal(mu,Cov)\n",
    "        y[i+1] = y[i]*(1+rr)\n",
    "    z_values.append(sum(y[T])*B)\n",
    "\n",
    "pd.DataFrame([np.mean(z_values), np.var(z_values), math.sqrt(np.var(z_values))], index=['mean', 'var', 'sd'], columns=['dollars'])"
   ]
  },
  {
   "cell_type": "code",
   "execution_count": 11,
   "metadata": {},
   "outputs": [
    {
     "data": {
      "image/png": "[encoded data removed]",
      "text/plain": [
       "<Figure size 432x288 with 1 Axes>"
      ]
     },
     "metadata": {},
     "output_type": "display_data"
    }
   ],
   "source": [
    "plt.hist(z_values, density=True)\n",
    "plt.xlabel('Portfolio')\n",
    "plt.ylabel('Probability')\n",
    "plt.title('Histogram of Returns - Minimizing Risk')\n",
    "plt.show()"
   ]
  },
  {
   "cell_type": "markdown",
   "metadata": {},
   "source": [
    "#### Portfolio Optimization: Maximizing Returns (or Utility) for 𝛾=0.1, 𝛾=0.15 and 𝛾=0.2"
   ]
  },
  {
   "cell_type": "code",
   "execution_count": 12,
   "metadata": {},
   "outputs": [
    {
     "data": {
      "text/html": [
       "<div>\n",
       "<style>\n",
       "    .dataframe thead tr:only-child th {\n",
       "        text-align: right;\n",
       "    }\n",
       "\n",
       "    .dataframe thead th {\n",
       "        text-align: left;\n",
       "    }\n",
       "\n",
       "    .dataframe tbody tr th {\n",
       "        vertical-align: top;\n",
       "    }\n",
       "</style>\n",
       "<table border=\"1\" class=\"dataframe\">\n",
       "  <thead>\n",
       "    <tr style=\"text-align: right;\">\n",
       "      <th></th>\n",
       "      <th>dollars</th>\n",
       "    </tr>\n",
       "  </thead>\n",
       "  <tbody>\n",
       "    <tr>\n",
       "      <th>mean</th>\n",
       "      <td>182051.75666</td>\n",
       "    </tr>\n",
       "    <tr>\n",
       "      <th>var</th>\n",
       "      <td>4383171192.33159</td>\n",
       "    </tr>\n",
       "    <tr>\n",
       "      <th>sd</th>\n",
       "      <td>66205.52237</td>\n",
       "    </tr>\n",
       "  </tbody>\n",
       "</table>\n",
       "</div>"
      ],
      "text/plain": [
       "              dollars\n",
       "mean     182051.75666\n",
       "var  4383171192.33159\n",
       "sd        66205.52237"
      ]
     },
     "execution_count": 12,
     "metadata": {},
     "output_type": "execute_result"
    }
   ],
   "source": [
    "simu = 1000 # I am doing 1000 simulations\n",
    "T = 300 # 300 trading days\n",
    "m = 6 # I have 6 assets\n",
    "B = 100000 # Budget is $100000\n",
    "z_values = []\n",
    "for q in range(simu):\n",
    "    y = np.zeros((T+1,m))\n",
    "    y[0] = allocation_max_returns.iloc[0,0:6] # because the allocation are same for 𝛾=0.1, 𝛾=0.15 and 𝛾=0.2, so I select 𝛾=0.1 as a instance. \n",
    "    for i in range(T):\n",
    "        rr = np.random.multivariate_normal(mu,Cov)\n",
    "        y[i+1] = y[i]*(1+rr)\n",
    "    z_values.append(sum(y[T])*B)\n",
    "\n",
    "pd.DataFrame([np.mean(z_values), np.var(z_values), math.sqrt(np.var(z_values))], index=['mean', 'var', 'sd'], columns=['dollars'])"
   ]
  },
  {
   "cell_type": "code",
   "execution_count": 13,
   "metadata": {},
   "outputs": [
    {
     "data": {
      "image/png": "[encoded data removed]",
      "text/plain": [
       "<Figure size 432x288 with 1 Axes>"
      ]
     },
     "metadata": {},
     "output_type": "display_data"
    }
   ],
   "source": [
    "plt.hist(z_values, density=True)\n",
    "plt.xlabel('Portfolio')\n",
    "plt.ylabel('Probability')\n",
    "plt.title('Histogram of Returns - Maximizing Returns')\n",
    "plt.show()"
   ]
  },
  {
   "cell_type": "markdown",
   "metadata": {},
   "source": [
    "### 5. Recommendations"
   ]
  },
  {
   "cell_type": "markdown",
   "metadata": {},
   "source": [
    "#### a. Explain the different allocations, i.e., why they are different"
   ]
  },
  {
   "cell_type": "markdown",
   "metadata": {},
   "source": [
    "The allocations are different to differnt portfolio strategies:\n",
    "- Minimizing risk: The goal is not to purly maximize the returns. The goal is to select the best return with the lowet risk. So in this case, risk has higher priority than return.\n",
    "- Maximizing returns: The goal is to purly maximize the returns not matter how risky the portfolio is. So in this case, risk has lower priority than return. The risk aversion coefficient 𝛾 reflects how risky a investor can bear and generally, the more risky the stock is, the larger the fluctuation of the return is."
   ]
  },
  {
   "cell_type": "markdown",
   "metadata": {},
   "source": [
    "#### b. What should an investor with risk aversion 𝛾 = 0.1 do? What about investors with 𝛾 = 0.15 and 𝛾 = 0.2?"
   ]
  },
  {
   "cell_type": "code",
   "execution_count": 14,
   "metadata": {},
   "outputs": [
    {
     "data": {
      "text/html": [
       "<div>\n",
       "<style>\n",
       "    .dataframe thead tr:only-child th {\n",
       "        text-align: right;\n",
       "    }\n",
       "\n",
       "    .dataframe thead th {\n",
       "        text-align: left;\n",
       "    }\n",
       "\n",
       "    .dataframe tbody tr th {\n",
       "        vertical-align: top;\n",
       "    }\n",
       "</style>\n",
       "<table border=\"1\" class=\"dataframe\">\n",
       "  <thead>\n",
       "    <tr style=\"text-align: right;\">\n",
       "      <th></th>\n",
       "      <th>Amazon</th>\n",
       "      <th>Apple</th>\n",
       "      <th>Ebay</th>\n",
       "      <th>Facebook</th>\n",
       "      <th>Google</th>\n",
       "      <th>Twitter</th>\n",
       "      <th>optimum_value</th>\n",
       "    </tr>\n",
       "  </thead>\n",
       "  <tbody>\n",
       "    <tr>\n",
       "      <th>𝛾=0.1</th>\n",
       "      <td>1.00000</td>\n",
       "      <td>0.00000</td>\n",
       "      <td>0.00000</td>\n",
       "      <td>0.00000</td>\n",
       "      <td>0.00000</td>\n",
       "      <td>0.00000</td>\n",
       "      <td>0.00195</td>\n",
       "    </tr>\n",
       "    <tr>\n",
       "      <th>𝛾=0.15</th>\n",
       "      <td>1.00000</td>\n",
       "      <td>0.00000</td>\n",
       "      <td>0.00000</td>\n",
       "      <td>0.00000</td>\n",
       "      <td>0.00000</td>\n",
       "      <td>0.00000</td>\n",
       "      <td>0.00193</td>\n",
       "    </tr>\n",
       "    <tr>\n",
       "      <th>𝛾=0.2</th>\n",
       "      <td>1.00000</td>\n",
       "      <td>0.00000</td>\n",
       "      <td>0.00000</td>\n",
       "      <td>0.00000</td>\n",
       "      <td>0.00000</td>\n",
       "      <td>0.00000</td>\n",
       "      <td>0.00191</td>\n",
       "    </tr>\n",
       "  </tbody>\n",
       "</table>\n",
       "</div>"
      ],
      "text/plain": [
       "        Amazon   Apple    Ebay  Facebook  Google  Twitter  optimum_value\n",
       "𝛾=0.1  1.00000 0.00000 0.00000   0.00000 0.00000  0.00000        0.00195\n",
       "𝛾=0.15 1.00000 0.00000 0.00000   0.00000 0.00000  0.00000        0.00193\n",
       "𝛾=0.2  1.00000 0.00000 0.00000   0.00000 0.00000  0.00000        0.00191"
      ]
     },
     "execution_count": 14,
     "metadata": {},
     "output_type": "execute_result"
    }
   ],
   "source": [
    "allocation_max_returns"
   ]
  },
  {
   "cell_type": "markdown",
   "metadata": {},
   "source": [
    "Based on the result showing above, investor with risk aversion 𝛾 from 0.1 to 0.2 should all invest Amazon only."
   ]
  },
  {
   "cell_type": "markdown",
   "metadata": {},
   "source": [
    "## Part B: Portfolio Optimization based on the last 400 trading days"
   ]
  },
  {
   "cell_type": "markdown",
   "metadata": {},
   "source": [
    "### 1. Preparing the data"
   ]
  },
  {
   "cell_type": "code",
   "execution_count": 15,
   "metadata": {},
   "outputs": [
    {
     "data": {
      "text/html": [
       "<div>\n",
       "<style>\n",
       "    .dataframe thead tr:only-child th {\n",
       "        text-align: right;\n",
       "    }\n",
       "\n",
       "    .dataframe thead th {\n",
       "        text-align: left;\n",
       "    }\n",
       "\n",
       "    .dataframe tbody tr th {\n",
       "        vertical-align: top;\n",
       "    }\n",
       "</style>\n",
       "<table border=\"1\" class=\"dataframe\">\n",
       "  <thead>\n",
       "    <tr style=\"text-align: right;\">\n",
       "      <th></th>\n",
       "      <th>Amazon</th>\n",
       "      <th>Apple</th>\n",
       "      <th>Ebay</th>\n",
       "      <th>Facebook</th>\n",
       "      <th>Google</th>\n",
       "      <th>Twitter</th>\n",
       "    </tr>\n",
       "  </thead>\n",
       "  <tbody>\n",
       "    <tr>\n",
       "      <th>399</th>\n",
       "      <td>687.18100</td>\n",
       "      <td>105.87000</td>\n",
       "      <td>31.06000</td>\n",
       "      <td>124.36000</td>\n",
       "      <td>797.25000</td>\n",
       "      <td>19.54000</td>\n",
       "    </tr>\n",
       "    <tr>\n",
       "      <th>400</th>\n",
       "      <td>676.85100</td>\n",
       "      <td>107.48000</td>\n",
       "      <td>31.39000</td>\n",
       "      <td>125.15000</td>\n",
       "      <td>806.92999</td>\n",
       "      <td>20.86000</td>\n",
       "    </tr>\n",
       "    <tr>\n",
       "      <th>401</th>\n",
       "      <td>674.91900</td>\n",
       "      <td>108.37000</td>\n",
       "      <td>31.15000</td>\n",
       "      <td>125.26000</td>\n",
       "      <td>805.22998</td>\n",
       "      <td>20.40000</td>\n",
       "    </tr>\n",
       "    <tr>\n",
       "      <th>402</th>\n",
       "      <td>685.26700</td>\n",
       "      <td>108.81000</td>\n",
       "      <td>31.11000</td>\n",
       "      <td>125.06000</td>\n",
       "      <td>807.47998</td>\n",
       "      <td>20.17000</td>\n",
       "    </tr>\n",
       "    <tr>\n",
       "      <th>403</th>\n",
       "      <td>691.06600</td>\n",
       "      <td>108.00000</td>\n",
       "      <td>31.12000</td>\n",
       "      <td>124.88000</td>\n",
       "      <td>808.48999</td>\n",
       "      <td>19.00000</td>\n",
       "    </tr>\n",
       "  </tbody>\n",
       "</table>\n",
       "</div>"
      ],
      "text/plain": [
       "       Amazon     Apple     Ebay  Facebook    Google  Twitter\n",
       "399 687.18100 105.87000 31.06000 124.36000 797.25000 19.54000\n",
       "400 676.85100 107.48000 31.39000 125.15000 806.92999 20.86000\n",
       "401 674.91900 108.37000 31.15000 125.26000 805.22998 20.40000\n",
       "402 685.26700 108.81000 31.11000 125.06000 807.47998 20.17000\n",
       "403 691.06600 108.00000 31.12000 124.88000 808.48999 19.00000"
      ]
     },
     "execution_count": 15,
     "metadata": {},
     "output_type": "execute_result"
    }
   ],
   "source": [
    "stocks = stocks[-400:]\n",
    "stocks.head()"
   ]
  },
  {
   "cell_type": "markdown",
   "metadata": {},
   "source": [
    "#### E. Based on the data set, compute the rate of returns for each stock"
   ]
  },
  {
   "cell_type": "code",
   "execution_count": 16,
   "metadata": {},
   "outputs": [
    {
     "data": {
      "text/html": [
       "<div>\n",
       "<style>\n",
       "    .dataframe thead tr:only-child th {\n",
       "        text-align: right;\n",
       "    }\n",
       "\n",
       "    .dataframe thead th {\n",
       "        text-align: left;\n",
       "    }\n",
       "\n",
       "    .dataframe tbody tr th {\n",
       "        vertical-align: top;\n",
       "    }\n",
       "</style>\n",
       "<table border=\"1\" class=\"dataframe\">\n",
       "  <thead>\n",
       "    <tr style=\"text-align: right;\">\n",
       "      <th></th>\n",
       "      <th>Amazon</th>\n",
       "      <th>Apple</th>\n",
       "      <th>Ebay</th>\n",
       "      <th>Facebook</th>\n",
       "      <th>Google</th>\n",
       "      <th>Twitter</th>\n",
       "    </tr>\n",
       "  </thead>\n",
       "  <tbody>\n",
       "    <tr>\n",
       "      <th>399</th>\n",
       "      <td>-0.01503</td>\n",
       "      <td>0.01521</td>\n",
       "      <td>0.01062</td>\n",
       "      <td>0.00635</td>\n",
       "      <td>0.01214</td>\n",
       "      <td>0.06755</td>\n",
       "    </tr>\n",
       "    <tr>\n",
       "      <th>400</th>\n",
       "      <td>-0.00285</td>\n",
       "      <td>0.00828</td>\n",
       "      <td>-0.00765</td>\n",
       "      <td>0.00088</td>\n",
       "      <td>-0.00211</td>\n",
       "      <td>-0.02205</td>\n",
       "    </tr>\n",
       "    <tr>\n",
       "      <th>401</th>\n",
       "      <td>0.01533</td>\n",
       "      <td>0.00406</td>\n",
       "      <td>-0.00128</td>\n",
       "      <td>-0.00160</td>\n",
       "      <td>0.00279</td>\n",
       "      <td>-0.01127</td>\n",
       "    </tr>\n",
       "    <tr>\n",
       "      <th>402</th>\n",
       "      <td>0.00846</td>\n",
       "      <td>-0.00744</td>\n",
       "      <td>0.00032</td>\n",
       "      <td>-0.00144</td>\n",
       "      <td>0.00125</td>\n",
       "      <td>-0.05801</td>\n",
       "    </tr>\n",
       "    <tr>\n",
       "      <th>403</th>\n",
       "      <td>-0.00068</td>\n",
       "      <td>-0.00065</td>\n",
       "      <td>0.00257</td>\n",
       "      <td>0.00016</td>\n",
       "      <td>-0.00036</td>\n",
       "      <td>-0.00105</td>\n",
       "    </tr>\n",
       "  </tbody>\n",
       "</table>\n",
       "</div>"
      ],
      "text/plain": [
       "      Amazon    Apple     Ebay  Facebook   Google  Twitter\n",
       "399 -0.01503  0.01521  0.01062   0.00635  0.01214  0.06755\n",
       "400 -0.00285  0.00828 -0.00765   0.00088 -0.00211 -0.02205\n",
       "401  0.01533  0.00406 -0.00128  -0.00160  0.00279 -0.01127\n",
       "402  0.00846 -0.00744  0.00032  -0.00144  0.00125 -0.05801\n",
       "403 -0.00068 -0.00065  0.00257   0.00016 -0.00036 -0.00105"
      ]
     },
     "execution_count": 16,
     "metadata": {},
     "output_type": "execute_result"
    }
   ],
   "source": [
    "rate_returns = (stocks.shift(-1) - stocks)/stocks\n",
    "rate_returns.dropna(inplace=True)\n",
    "rate_returns.head()"
   ]
  },
  {
   "cell_type": "markdown",
   "metadata": {},
   "source": [
    "#### F. Based on the data set, compute the average returns that will be used for the optimization"
   ]
  },
  {
   "cell_type": "code",
   "execution_count": 17,
   "metadata": {},
   "outputs": [
    {
     "data": {
      "text/plain": [
       "array([ 0.0014643 ,  0.00126081,  0.00080563,  0.00098042,  0.0008732 ,\n",
       "        0.00150318])"
      ]
     },
     "execution_count": 17,
     "metadata": {},
     "output_type": "execute_result"
    }
   ],
   "source": [
    "avg_returns = stats.gmean(rate_returns+1, axis=0)-1\n",
    "avg_returns"
   ]
  },
  {
   "cell_type": "markdown",
   "metadata": {},
   "source": [
    "#### G. Based on the data set, compute the variance-covariance matrix of the stock returns"
   ]
  },
  {
   "cell_type": "code",
   "execution_count": 18,
   "metadata": {},
   "outputs": [
    {
     "data": {
      "text/html": [
       "<div>\n",
       "<style>\n",
       "    .dataframe thead tr:only-child th {\n",
       "        text-align: right;\n",
       "    }\n",
       "\n",
       "    .dataframe thead th {\n",
       "        text-align: left;\n",
       "    }\n",
       "\n",
       "    .dataframe tbody tr th {\n",
       "        vertical-align: top;\n",
       "    }\n",
       "</style>\n",
       "<table border=\"1\" class=\"dataframe\">\n",
       "  <thead>\n",
       "    <tr style=\"text-align: right;\">\n",
       "      <th></th>\n",
       "      <th>Amazon</th>\n",
       "      <th>Apple</th>\n",
       "      <th>Ebay</th>\n",
       "      <th>Facebook</th>\n",
       "      <th>Google</th>\n",
       "      <th>Twitter</th>\n",
       "    </tr>\n",
       "  </thead>\n",
       "  <tbody>\n",
       "    <tr>\n",
       "      <th>Amazon</th>\n",
       "      <td>0.00023</td>\n",
       "      <td>-0.00001</td>\n",
       "      <td>-0.00000</td>\n",
       "      <td>-0.00000</td>\n",
       "      <td>-0.00000</td>\n",
       "      <td>-0.00003</td>\n",
       "    </tr>\n",
       "    <tr>\n",
       "      <th>Apple</th>\n",
       "      <td>-0.00001</td>\n",
       "      <td>0.00014</td>\n",
       "      <td>0.00001</td>\n",
       "      <td>0.00000</td>\n",
       "      <td>0.00001</td>\n",
       "      <td>-0.00001</td>\n",
       "    </tr>\n",
       "    <tr>\n",
       "      <th>Ebay</th>\n",
       "      <td>-0.00000</td>\n",
       "      <td>0.00001</td>\n",
       "      <td>0.00024</td>\n",
       "      <td>-0.00001</td>\n",
       "      <td>0.00000</td>\n",
       "      <td>-0.00003</td>\n",
       "    </tr>\n",
       "    <tr>\n",
       "      <th>Facebook</th>\n",
       "      <td>-0.00000</td>\n",
       "      <td>0.00000</td>\n",
       "      <td>-0.00001</td>\n",
       "      <td>0.00016</td>\n",
       "      <td>0.00002</td>\n",
       "      <td>-0.00000</td>\n",
       "    </tr>\n",
       "    <tr>\n",
       "      <th>Google</th>\n",
       "      <td>-0.00000</td>\n",
       "      <td>0.00001</td>\n",
       "      <td>0.00000</td>\n",
       "      <td>0.00002</td>\n",
       "      <td>0.00012</td>\n",
       "      <td>-0.00001</td>\n",
       "    </tr>\n",
       "    <tr>\n",
       "      <th>Twitter</th>\n",
       "      <td>-0.00003</td>\n",
       "      <td>-0.00001</td>\n",
       "      <td>-0.00003</td>\n",
       "      <td>-0.00000</td>\n",
       "      <td>-0.00001</td>\n",
       "      <td>0.00100</td>\n",
       "    </tr>\n",
       "  </tbody>\n",
       "</table>\n",
       "</div>"
      ],
      "text/plain": [
       "           Amazon    Apple     Ebay  Facebook   Google  Twitter\n",
       "Amazon    0.00023 -0.00001 -0.00000  -0.00000 -0.00000 -0.00003\n",
       "Apple    -0.00001  0.00014  0.00001   0.00000  0.00001 -0.00001\n",
       "Ebay     -0.00000  0.00001  0.00024  -0.00001  0.00000 -0.00003\n",
       "Facebook -0.00000  0.00000 -0.00001   0.00016  0.00002 -0.00000\n",
       "Google   -0.00000  0.00001  0.00000   0.00002  0.00012 -0.00001\n",
       "Twitter  -0.00003 -0.00001 -0.00003  -0.00000 -0.00001  0.00100"
      ]
     },
     "execution_count": 18,
     "metadata": {},
     "output_type": "execute_result"
    }
   ],
   "source": [
    "covariance_matrix = rate_returns.cov()\n",
    "covariance_matrix"
   ]
  },
  {
   "cell_type": "markdown",
   "metadata": {},
   "source": [
    "#### H. Provide the vector 𝜇 and the variance-covariance matrix 𝛴 for the 6 assets considered"
   ]
  },
  {
   "cell_type": "code",
   "execution_count": 19,
   "metadata": {},
   "outputs": [
    {
     "name": "stdout",
     "output_type": "stream",
     "text": [
      "the vector 𝜇 = rate_returns:\n"
     ]
    },
    {
     "data": {
      "text/html": [
       "<div>\n",
       "<style>\n",
       "    .dataframe thead tr:only-child th {\n",
       "        text-align: right;\n",
       "    }\n",
       "\n",
       "    .dataframe thead th {\n",
       "        text-align: left;\n",
       "    }\n",
       "\n",
       "    .dataframe tbody tr th {\n",
       "        vertical-align: top;\n",
       "    }\n",
       "</style>\n",
       "<table border=\"1\" class=\"dataframe\">\n",
       "  <thead>\n",
       "    <tr style=\"text-align: right;\">\n",
       "      <th></th>\n",
       "      <th>Amazon</th>\n",
       "      <th>Apple</th>\n",
       "      <th>Ebay</th>\n",
       "      <th>Facebook</th>\n",
       "      <th>Google</th>\n",
       "      <th>Twitter</th>\n",
       "    </tr>\n",
       "  </thead>\n",
       "  <tbody>\n",
       "    <tr>\n",
       "      <th>399</th>\n",
       "      <td>-0.01503</td>\n",
       "      <td>0.01521</td>\n",
       "      <td>0.01062</td>\n",
       "      <td>0.00635</td>\n",
       "      <td>0.01214</td>\n",
       "      <td>0.06755</td>\n",
       "    </tr>\n",
       "    <tr>\n",
       "      <th>400</th>\n",
       "      <td>-0.00285</td>\n",
       "      <td>0.00828</td>\n",
       "      <td>-0.00765</td>\n",
       "      <td>0.00088</td>\n",
       "      <td>-0.00211</td>\n",
       "      <td>-0.02205</td>\n",
       "    </tr>\n",
       "    <tr>\n",
       "      <th>401</th>\n",
       "      <td>0.01533</td>\n",
       "      <td>0.00406</td>\n",
       "      <td>-0.00128</td>\n",
       "      <td>-0.00160</td>\n",
       "      <td>0.00279</td>\n",
       "      <td>-0.01127</td>\n",
       "    </tr>\n",
       "    <tr>\n",
       "      <th>402</th>\n",
       "      <td>0.00846</td>\n",
       "      <td>-0.00744</td>\n",
       "      <td>0.00032</td>\n",
       "      <td>-0.00144</td>\n",
       "      <td>0.00125</td>\n",
       "      <td>-0.05801</td>\n",
       "    </tr>\n",
       "    <tr>\n",
       "      <th>403</th>\n",
       "      <td>-0.00068</td>\n",
       "      <td>-0.00065</td>\n",
       "      <td>0.00257</td>\n",
       "      <td>0.00016</td>\n",
       "      <td>-0.00036</td>\n",
       "      <td>-0.00105</td>\n",
       "    </tr>\n",
       "  </tbody>\n",
       "</table>\n",
       "</div>"
      ],
      "text/plain": [
       "      Amazon    Apple     Ebay  Facebook   Google  Twitter\n",
       "399 -0.01503  0.01521  0.01062   0.00635  0.01214  0.06755\n",
       "400 -0.00285  0.00828 -0.00765   0.00088 -0.00211 -0.02205\n",
       "401  0.01533  0.00406 -0.00128  -0.00160  0.00279 -0.01127\n",
       "402  0.00846 -0.00744  0.00032  -0.00144  0.00125 -0.05801\n",
       "403 -0.00068 -0.00065  0.00257   0.00016 -0.00036 -0.00105"
      ]
     },
     "execution_count": 19,
     "metadata": {},
     "output_type": "execute_result"
    }
   ],
   "source": [
    "# the vector 𝜇 = rate_returns\n",
    "print('the vector 𝜇 = rate_returns:')\n",
    "rate_returns.head()"
   ]
  },
  {
   "cell_type": "code",
   "execution_count": 20,
   "metadata": {},
   "outputs": [
    {
     "name": "stdout",
     "output_type": "stream",
     "text": [
      "the variance-covariance matrix = covariance_matrix:\n"
     ]
    },
    {
     "data": {
      "text/html": [
       "<div>\n",
       "<style>\n",
       "    .dataframe thead tr:only-child th {\n",
       "        text-align: right;\n",
       "    }\n",
       "\n",
       "    .dataframe thead th {\n",
       "        text-align: left;\n",
       "    }\n",
       "\n",
       "    .dataframe tbody tr th {\n",
       "        vertical-align: top;\n",
       "    }\n",
       "</style>\n",
       "<table border=\"1\" class=\"dataframe\">\n",
       "  <thead>\n",
       "    <tr style=\"text-align: right;\">\n",
       "      <th></th>\n",
       "      <th>Amazon</th>\n",
       "      <th>Apple</th>\n",
       "      <th>Ebay</th>\n",
       "      <th>Facebook</th>\n",
       "      <th>Google</th>\n",
       "      <th>Twitter</th>\n",
       "    </tr>\n",
       "  </thead>\n",
       "  <tbody>\n",
       "    <tr>\n",
       "      <th>Amazon</th>\n",
       "      <td>0.00023</td>\n",
       "      <td>-0.00001</td>\n",
       "      <td>-0.00000</td>\n",
       "      <td>-0.00000</td>\n",
       "      <td>-0.00000</td>\n",
       "      <td>-0.00003</td>\n",
       "    </tr>\n",
       "    <tr>\n",
       "      <th>Apple</th>\n",
       "      <td>-0.00001</td>\n",
       "      <td>0.00014</td>\n",
       "      <td>0.00001</td>\n",
       "      <td>0.00000</td>\n",
       "      <td>0.00001</td>\n",
       "      <td>-0.00001</td>\n",
       "    </tr>\n",
       "    <tr>\n",
       "      <th>Ebay</th>\n",
       "      <td>-0.00000</td>\n",
       "      <td>0.00001</td>\n",
       "      <td>0.00024</td>\n",
       "      <td>-0.00001</td>\n",
       "      <td>0.00000</td>\n",
       "      <td>-0.00003</td>\n",
       "    </tr>\n",
       "    <tr>\n",
       "      <th>Facebook</th>\n",
       "      <td>-0.00000</td>\n",
       "      <td>0.00000</td>\n",
       "      <td>-0.00001</td>\n",
       "      <td>0.00016</td>\n",
       "      <td>0.00002</td>\n",
       "      <td>-0.00000</td>\n",
       "    </tr>\n",
       "    <tr>\n",
       "      <th>Google</th>\n",
       "      <td>-0.00000</td>\n",
       "      <td>0.00001</td>\n",
       "      <td>0.00000</td>\n",
       "      <td>0.00002</td>\n",
       "      <td>0.00012</td>\n",
       "      <td>-0.00001</td>\n",
       "    </tr>\n",
       "    <tr>\n",
       "      <th>Twitter</th>\n",
       "      <td>-0.00003</td>\n",
       "      <td>-0.00001</td>\n",
       "      <td>-0.00003</td>\n",
       "      <td>-0.00000</td>\n",
       "      <td>-0.00001</td>\n",
       "      <td>0.00100</td>\n",
       "    </tr>\n",
       "  </tbody>\n",
       "</table>\n",
       "</div>"
      ],
      "text/plain": [
       "           Amazon    Apple     Ebay  Facebook   Google  Twitter\n",
       "Amazon    0.00023 -0.00001 -0.00000  -0.00000 -0.00000 -0.00003\n",
       "Apple    -0.00001  0.00014  0.00001   0.00000  0.00001 -0.00001\n",
       "Ebay     -0.00000  0.00001  0.00024  -0.00001  0.00000 -0.00003\n",
       "Facebook -0.00000  0.00000 -0.00001   0.00016  0.00002 -0.00000\n",
       "Google   -0.00000  0.00001  0.00000   0.00002  0.00012 -0.00001\n",
       "Twitter  -0.00003 -0.00001 -0.00003  -0.00000 -0.00001  0.00100"
      ]
     },
     "execution_count": 20,
     "metadata": {},
     "output_type": "execute_result"
    }
   ],
   "source": [
    "# the variance-covariance matrix = covariance_matrix\n",
    "print('the variance-covariance matrix = covariance_matrix:')\n",
    "covariance_matrix"
   ]
  },
  {
   "cell_type": "markdown",
   "metadata": {},
   "source": [
    "### 2. Portfolio Optimization: Minimizing Risk"
   ]
  },
  {
   "cell_type": "code",
   "execution_count": 21,
   "metadata": {},
   "outputs": [
    {
     "name": "stdout",
     "output_type": "stream",
     "text": [
      "the optimum value is: 3e-05\n"
     ]
    },
    {
     "data": {
      "text/html": [
       "<div>\n",
       "<style>\n",
       "    .dataframe thead tr:only-child th {\n",
       "        text-align: right;\n",
       "    }\n",
       "\n",
       "    .dataframe thead th {\n",
       "        text-align: left;\n",
       "    }\n",
       "\n",
       "    .dataframe tbody tr th {\n",
       "        vertical-align: top;\n",
       "    }\n",
       "</style>\n",
       "<table border=\"1\" class=\"dataframe\">\n",
       "  <thead>\n",
       "    <tr style=\"text-align: right;\">\n",
       "      <th></th>\n",
       "      <th>Amazon</th>\n",
       "      <th>Apple</th>\n",
       "      <th>Ebay</th>\n",
       "      <th>Facebook</th>\n",
       "      <th>Google</th>\n",
       "      <th>Twitter</th>\n",
       "    </tr>\n",
       "  </thead>\n",
       "  <tbody>\n",
       "    <tr>\n",
       "      <th>Allocation</th>\n",
       "      <td>0.16299</td>\n",
       "      <td>0.22956</td>\n",
       "      <td>0.14732</td>\n",
       "      <td>0.18900</td>\n",
       "      <td>0.22479</td>\n",
       "      <td>0.04634</td>\n",
       "    </tr>\n",
       "  </tbody>\n",
       "</table>\n",
       "</div>"
      ],
      "text/plain": [
       "            Amazon   Apple    Ebay  Facebook  Google  Twitter\n",
       "Allocation 0.16299 0.22956 0.14732   0.18900 0.22479  0.04634"
      ]
     },
     "execution_count": 21,
     "metadata": {},
     "output_type": "execute_result"
    }
   ],
   "source": [
    "R = 0.07/250\n",
    "mu = avg_returns\n",
    "Cov = covariance_matrix.values\n",
    "x = cvx.Variable(6)\n",
    "\n",
    "risk = quad_form(x, Cov)\n",
    "rr = sum_entries(mu*x)\n",
    "prob1 = Problem(Minimize(risk), \n",
    "               [rr >= R,sum_entries(x) == 1, \n",
    "                x >= 0])\n",
    "prob1.solve()\n",
    "\n",
    "allocation_min_risk = pd.DataFrame(x.value.T, columns = stocks.columns, index = ['Allocation'])\n",
    "print(f'the optimum value is: {round(prob1.value,5)}')\n",
    "allocation_min_risk"
   ]
  },
  {
   "cell_type": "markdown",
   "metadata": {},
   "source": [
    "### 3. Portfolio Optimization: Maximizing Returns (or Utility)"
   ]
  },
  {
   "cell_type": "code",
   "execution_count": 22,
   "metadata": {},
   "outputs": [
    {
     "data": {
      "text/html": [
       "<div>\n",
       "<style>\n",
       "    .dataframe thead tr:only-child th {\n",
       "        text-align: right;\n",
       "    }\n",
       "\n",
       "    .dataframe thead th {\n",
       "        text-align: left;\n",
       "    }\n",
       "\n",
       "    .dataframe tbody tr th {\n",
       "        vertical-align: top;\n",
       "    }\n",
       "</style>\n",
       "<table border=\"1\" class=\"dataframe\">\n",
       "  <thead>\n",
       "    <tr style=\"text-align: right;\">\n",
       "      <th></th>\n",
       "      <th>Amazon</th>\n",
       "      <th>Apple</th>\n",
       "      <th>Ebay</th>\n",
       "      <th>Facebook</th>\n",
       "      <th>Google</th>\n",
       "      <th>Twitter</th>\n",
       "      <th>optimum_value</th>\n",
       "    </tr>\n",
       "  </thead>\n",
       "  <tbody>\n",
       "    <tr>\n",
       "      <th>𝛾=0.1</th>\n",
       "      <td>0.64790</td>\n",
       "      <td>0.00000</td>\n",
       "      <td>0.00000</td>\n",
       "      <td>0.00000</td>\n",
       "      <td>0.00000</td>\n",
       "      <td>0.35210</td>\n",
       "      <td>0.00146</td>\n",
       "    </tr>\n",
       "    <tr>\n",
       "      <th>𝛾=0.15</th>\n",
       "      <td>0.69778</td>\n",
       "      <td>0.00000</td>\n",
       "      <td>0.00000</td>\n",
       "      <td>0.00000</td>\n",
       "      <td>0.00000</td>\n",
       "      <td>0.30222</td>\n",
       "      <td>0.00145</td>\n",
       "    </tr>\n",
       "    <tr>\n",
       "      <th>𝛾=0.2</th>\n",
       "      <td>0.72264</td>\n",
       "      <td>0.00000</td>\n",
       "      <td>0.00000</td>\n",
       "      <td>0.00000</td>\n",
       "      <td>0.00000</td>\n",
       "      <td>0.27736</td>\n",
       "      <td>0.00144</td>\n",
       "    </tr>\n",
       "  </tbody>\n",
       "</table>\n",
       "</div>"
      ],
      "text/plain": [
       "        Amazon   Apple    Ebay  Facebook  Google  Twitter  optimum_value\n",
       "𝛾=0.1  0.64790 0.00000 0.00000   0.00000 0.00000  0.35210        0.00146\n",
       "𝛾=0.15 0.69778 0.00000 0.00000   0.00000 0.00000  0.30222        0.00145\n",
       "𝛾=0.2  0.72264 0.00000 0.00000   0.00000 0.00000  0.27736        0.00144"
      ]
     },
     "execution_count": 22,
     "metadata": {},
     "output_type": "execute_result"
    }
   ],
   "source": [
    "gamma = [0.10, 0.15, 0.20]\n",
    "mu = avg_returns\n",
    "Cov = covariance_matrix.values\n",
    "x = cvx.Variable(6)\n",
    "\n",
    "risk = quad_form(x, Cov)\n",
    "rr = sum_entries(mu*x)\n",
    "\n",
    "allocation_max_returns_list = []\n",
    "optimum_value = []\n",
    "for g in gamma:\n",
    "    prob2 = Problem(Maximize(rr - g*risk), \n",
    "                   [sum_entries(x) == 1, \n",
    "                    x >= 0])\n",
    "    prob2.solve()\n",
    "\n",
    "    allocation_max_returns_list.append(pd.DataFrame(x.value.T))\n",
    "    optimum_value.append(prob2.value)\n",
    "    \n",
    "allocation_max_returns = pd.concat([allocation_max_returns_list[0], allocation_max_returns_list[1], allocation_max_returns_list[2]])\n",
    "allocation_max_returns.columns = stocks.columns\n",
    "allocation_max_returns.index = list(map(lambda x: '𝛾='+ str(x), gamma))\n",
    "allocation_max_returns['optimum_value'] = optimum_value\n",
    "\n",
    "allocation_max_returns"
   ]
  },
  {
   "cell_type": "markdown",
   "metadata": {},
   "source": [
    "### 4. Simulations"
   ]
  },
  {
   "cell_type": "markdown",
   "metadata": {},
   "source": [
    "#### Portfolio Optimization: Minimizing Risk"
   ]
  },
  {
   "cell_type": "code",
   "execution_count": 23,
   "metadata": {},
   "outputs": [
    {
     "data": {
      "text/html": [
       "<div>\n",
       "<style>\n",
       "    .dataframe thead tr:only-child th {\n",
       "        text-align: right;\n",
       "    }\n",
       "\n",
       "    .dataframe thead th {\n",
       "        text-align: left;\n",
       "    }\n",
       "\n",
       "    .dataframe tbody tr th {\n",
       "        vertical-align: top;\n",
       "    }\n",
       "</style>\n",
       "<table border=\"1\" class=\"dataframe\">\n",
       "  <thead>\n",
       "    <tr style=\"text-align: right;\">\n",
       "      <th></th>\n",
       "      <th>dollars</th>\n",
       "    </tr>\n",
       "  </thead>\n",
       "  <tbody>\n",
       "    <tr>\n",
       "      <th>mean</th>\n",
       "      <td>139161.92065</td>\n",
       "    </tr>\n",
       "    <tr>\n",
       "      <th>var</th>\n",
       "      <td>205771598.38063</td>\n",
       "    </tr>\n",
       "    <tr>\n",
       "      <th>sd</th>\n",
       "      <td>14344.74114</td>\n",
       "    </tr>\n",
       "  </tbody>\n",
       "</table>\n",
       "</div>"
      ],
      "text/plain": [
       "             dollars\n",
       "mean    139161.92065\n",
       "var  205771598.38063\n",
       "sd       14344.74114"
      ]
     },
     "execution_count": 23,
     "metadata": {},
     "output_type": "execute_result"
    }
   ],
   "source": [
    "simu = 1000 # I am doing 1000 simulations\n",
    "T = 300 # 300 trading days\n",
    "m = 6 # I have 6 assets\n",
    "B = 100000 # Budget is $100000\n",
    "z_values = []\n",
    "for q in range(simu):\n",
    "    y = np.zeros((T+1,m))\n",
    "    y[0] = allocation_min_risk\n",
    "    for i in range(T):\n",
    "        rr = np.random.multivariate_normal(mu,Cov)\n",
    "        y[i+1] = y[i]*(1+rr)\n",
    "    z_values.append(sum(y[T])*B)\n",
    "\n",
    "pd.DataFrame([np.mean(z_values), np.var(z_values), math.sqrt(np.var(z_values))], index=['mean', 'var', 'sd'], columns=['dollars'])"
   ]
  },
  {
   "cell_type": "code",
   "execution_count": 24,
   "metadata": {},
   "outputs": [
    {
     "data": {
      "image/png": "[encoded data removed]",
      "text/plain": [
       "<Figure size 432x288 with 1 Axes>"
      ]
     },
     "metadata": {},
     "output_type": "display_data"
    }
   ],
   "source": [
    "plt.hist(z_values, density=True)\n",
    "plt.xlabel('Portfolio')\n",
    "plt.ylabel('Probability')\n",
    "plt.title('Histogram of Returns - Minimizing Risk')\n",
    "plt.show()"
   ]
  },
  {
   "cell_type": "markdown",
   "metadata": {},
   "source": [
    "#### Portfolio Optimization: Maximizing Returns (or Utility) for 𝛾=0.1"
   ]
  },
  {
   "cell_type": "code",
   "execution_count": 25,
   "metadata": {},
   "outputs": [
    {
     "data": {
      "text/html": [
       "<div>\n",
       "<style>\n",
       "    .dataframe thead tr:only-child th {\n",
       "        text-align: right;\n",
       "    }\n",
       "\n",
       "    .dataframe thead th {\n",
       "        text-align: left;\n",
       "    }\n",
       "\n",
       "    .dataframe tbody tr th {\n",
       "        vertical-align: top;\n",
       "    }\n",
       "</style>\n",
       "<table border=\"1\" class=\"dataframe\">\n",
       "  <thead>\n",
       "    <tr style=\"text-align: right;\">\n",
       "      <th></th>\n",
       "      <th>dollars</th>\n",
       "    </tr>\n",
       "  </thead>\n",
       "  <tbody>\n",
       "    <tr>\n",
       "      <th>mean</th>\n",
       "      <td>154831.42960</td>\n",
       "    </tr>\n",
       "    <tr>\n",
       "      <th>var</th>\n",
       "      <td>1612049845.34373</td>\n",
       "    </tr>\n",
       "    <tr>\n",
       "      <th>sd</th>\n",
       "      <td>40150.34054</td>\n",
       "    </tr>\n",
       "  </tbody>\n",
       "</table>\n",
       "</div>"
      ],
      "text/plain": [
       "              dollars\n",
       "mean     154831.42960\n",
       "var  1612049845.34373\n",
       "sd        40150.34054"
      ]
     },
     "execution_count": 25,
     "metadata": {},
     "output_type": "execute_result"
    }
   ],
   "source": [
    "simu = 1000 # I am doing 1000 simulations\n",
    "T = 300 # 300 trading days\n",
    "m = 6 # I have 6 assets\n",
    "B = 100000 # Budget is $100000\n",
    "z_values = []\n",
    "for q in range(simu):\n",
    "    y = np.zeros((T+1,m))\n",
    "    y[0] = allocation_max_returns.iloc[0,0:6]\n",
    "    for i in range(T):\n",
    "        rr = np.random.multivariate_normal(mu,Cov)\n",
    "        y[i+1] = y[i]*(1+rr)\n",
    "    z_values.append(sum(y[T])*B)\n",
    "\n",
    "pd.DataFrame([np.mean(z_values), np.var(z_values), math.sqrt(np.var(z_values))], index=['mean', 'var', 'sd'], columns=['dollars'])"
   ]
  },
  {
   "cell_type": "code",
   "execution_count": 26,
   "metadata": {},
   "outputs": [
    {
     "data": {
      "image/png": "[encoded data removed]",
      "text/plain": [
       "<Figure size 432x288 with 1 Axes>"
      ]
     },
     "metadata": {},
     "output_type": "display_data"
    }
   ],
   "source": [
    "plt.hist(z_values, density=True)\n",
    "plt.xlabel('Portfolio')\n",
    "plt.ylabel('Probability')\n",
    "plt.title('Histogram of Returns - Maximizing Returns')\n",
    "plt.show()"
   ]
  },
  {
   "cell_type": "markdown",
   "metadata": {},
   "source": [
    "#### Portfolio Optimization: Maximizing Returns (or Utility) for 𝛾=0.15"
   ]
  },
  {
   "cell_type": "code",
   "execution_count": 27,
   "metadata": {},
   "outputs": [
    {
     "data": {
      "text/html": [
       "<div>\n",
       "<style>\n",
       "    .dataframe thead tr:only-child th {\n",
       "        text-align: right;\n",
       "    }\n",
       "\n",
       "    .dataframe thead th {\n",
       "        text-align: left;\n",
       "    }\n",
       "\n",
       "    .dataframe tbody tr th {\n",
       "        vertical-align: top;\n",
       "    }\n",
       "</style>\n",
       "<table border=\"1\" class=\"dataframe\">\n",
       "  <thead>\n",
       "    <tr style=\"text-align: right;\">\n",
       "      <th></th>\n",
       "      <th>dollars</th>\n",
       "    </tr>\n",
       "  </thead>\n",
       "  <tbody>\n",
       "    <tr>\n",
       "      <th>mean</th>\n",
       "      <td>154825.99441</td>\n",
       "    </tr>\n",
       "    <tr>\n",
       "      <th>var</th>\n",
       "      <td>1492006678.06965</td>\n",
       "    </tr>\n",
       "    <tr>\n",
       "      <th>sd</th>\n",
       "      <td>38626.50228</td>\n",
       "    </tr>\n",
       "  </tbody>\n",
       "</table>\n",
       "</div>"
      ],
      "text/plain": [
       "              dollars\n",
       "mean     154825.99441\n",
       "var  1492006678.06965\n",
       "sd        38626.50228"
      ]
     },
     "execution_count": 27,
     "metadata": {},
     "output_type": "execute_result"
    }
   ],
   "source": [
    "simu = 1000 # I am doing 1000 simulations\n",
    "T = 300 # 300 trading days\n",
    "m = 6 # I have 6 assets\n",
    "B = 100000 # Budget is $100000\n",
    "z_values = []\n",
    "for q in range(simu):\n",
    "    y = np.zeros((T+1,m))\n",
    "    y[0] = allocation_max_returns.iloc[1,0:6]\n",
    "    for i in range(T):\n",
    "        rr = np.random.multivariate_normal(mu,Cov)\n",
    "        y[i+1] = y[i]*(1+rr)\n",
    "    z_values.append(sum(y[T])*B)\n",
    "\n",
    "pd.DataFrame([np.mean(z_values), np.var(z_values), math.sqrt(np.var(z_values))], index=['mean', 'var', 'sd'], columns=['dollars'])"
   ]
  },
  {
   "cell_type": "code",
   "execution_count": 28,
   "metadata": {},
   "outputs": [
    {
     "data": {
      "image/png": "[encoded data removed]",
      "text/plain": [
       "<Figure size 432x288 with 1 Axes>"
      ]
     },
     "metadata": {},
     "output_type": "display_data"
    }
   ],
   "source": [
    "plt.hist(z_values, density=True)\n",
    "plt.xlabel('Portfolio')\n",
    "plt.ylabel('Probability')\n",
    "plt.title('Histogram of Returns - Maximizing Returns')\n",
    "plt.show()"
   ]
  },
  {
   "cell_type": "markdown",
   "metadata": {},
   "source": [
    "#### Portfolio Optimization: Maximizing Returns (or Utility) for 𝛾=0.2"
   ]
  },
  {
   "cell_type": "code",
   "execution_count": 29,
   "metadata": {},
   "outputs": [
    {
     "data": {
      "text/html": [
       "<div>\n",
       "<style>\n",
       "    .dataframe thead tr:only-child th {\n",
       "        text-align: right;\n",
       "    }\n",
       "\n",
       "    .dataframe thead th {\n",
       "        text-align: left;\n",
       "    }\n",
       "\n",
       "    .dataframe tbody tr th {\n",
       "        vertical-align: top;\n",
       "    }\n",
       "</style>\n",
       "<table border=\"1\" class=\"dataframe\">\n",
       "  <thead>\n",
       "    <tr style=\"text-align: right;\">\n",
       "      <th></th>\n",
       "      <th>dollars</th>\n",
       "    </tr>\n",
       "  </thead>\n",
       "  <tbody>\n",
       "    <tr>\n",
       "      <th>mean</th>\n",
       "      <td>159600.04843</td>\n",
       "    </tr>\n",
       "    <tr>\n",
       "      <th>var</th>\n",
       "      <td>1650337223.41546</td>\n",
       "    </tr>\n",
       "    <tr>\n",
       "      <th>sd</th>\n",
       "      <td>40624.34274</td>\n",
       "    </tr>\n",
       "  </tbody>\n",
       "</table>\n",
       "</div>"
      ],
      "text/plain": [
       "              dollars\n",
       "mean     159600.04843\n",
       "var  1650337223.41546\n",
       "sd        40624.34274"
      ]
     },
     "execution_count": 29,
     "metadata": {},
     "output_type": "execute_result"
    }
   ],
   "source": [
    "simu = 1000 # I am doing 1000 simulations\n",
    "T = 300 # 300 trading days\n",
    "m = 6 # I have 6 assets\n",
    "B = 100000 # Budget is $100000\n",
    "z_values = []\n",
    "for q in range(simu):\n",
    "    y = np.zeros((T+1,m))\n",
    "    y[0] = allocation_max_returns.iloc[2,0:6]\n",
    "    for i in range(T):\n",
    "        rr = np.random.multivariate_normal(mu,Cov)\n",
    "        y[i+1] = y[i]*(1+rr)\n",
    "    z_values.append(sum(y[T])*B)\n",
    "\n",
    "pd.DataFrame([np.mean(z_values), np.var(z_values), math.sqrt(np.var(z_values))], index=['mean', 'var', 'sd'], columns=['dollars'])"
   ]
  },
  {
   "cell_type": "code",
   "execution_count": 30,
   "metadata": {},
   "outputs": [
    {
     "data": {
      "image/png": "[encoded data removed]",
      "text/plain": [
       "<Figure size 432x288 with 1 Axes>"
      ]
     },
     "metadata": {},
     "output_type": "display_data"
    }
   ],
   "source": [
    "plt.hist(z_values, density=True)\n",
    "plt.xlabel('Portfolio')\n",
    "plt.ylabel('Probability')\n",
    "plt.title('Histogram of Returns - Maximizing Returns')\n",
    "plt.show()"
   ]
  },
  {
   "cell_type": "markdown",
   "metadata": {},
   "source": [
    "### 5. Explanations"
   ]
  },
  {
   "cell_type": "markdown",
   "metadata": {},
   "source": [
    "### a. Explain the different allocations, i.e., why they are different"
   ]
  },
  {
   "cell_type": "markdown",
   "metadata": {},
   "source": [
    "The allocations are different to differnt portfolio strategies:\n",
    "- Minimizing risk: The goal is not to purly maximize the returns. The goal is to select the best return with the lowet risk. So in this case, risk has higher priority than return.\n",
    "- Maximizing returns: The goal is to purly maximize the returns not matter how risky the portfolio is. So in this case, risk has lower priority than return. The risk aversion coefficient 𝛾 reflects how risky a investor can bear and generally, the more risky the stock is, the larger the fluctuation of the return is."
   ]
  },
  {
   "cell_type": "markdown",
   "metadata": {},
   "source": [
    "### b. What should an investor with risk aversion 𝛾 = 0.1 do? What about investors with 𝛾 = 0.15 and 𝛾 = 0.2?"
   ]
  },
  {
   "cell_type": "code",
   "execution_count": 31,
   "metadata": {},
   "outputs": [
    {
     "data": {
      "text/html": [
       "<div>\n",
       "<style>\n",
       "    .dataframe thead tr:only-child th {\n",
       "        text-align: right;\n",
       "    }\n",
       "\n",
       "    .dataframe thead th {\n",
       "        text-align: left;\n",
       "    }\n",
       "\n",
       "    .dataframe tbody tr th {\n",
       "        vertical-align: top;\n",
       "    }\n",
       "</style>\n",
       "<table border=\"1\" class=\"dataframe\">\n",
       "  <thead>\n",
       "    <tr style=\"text-align: right;\">\n",
       "      <th></th>\n",
       "      <th>Amazon</th>\n",
       "      <th>Apple</th>\n",
       "      <th>Ebay</th>\n",
       "      <th>Facebook</th>\n",
       "      <th>Google</th>\n",
       "      <th>Twitter</th>\n",
       "      <th>optimum_value</th>\n",
       "    </tr>\n",
       "  </thead>\n",
       "  <tbody>\n",
       "    <tr>\n",
       "      <th>𝛾=0.1</th>\n",
       "      <td>0.64790</td>\n",
       "      <td>0.00000</td>\n",
       "      <td>0.00000</td>\n",
       "      <td>0.00000</td>\n",
       "      <td>0.00000</td>\n",
       "      <td>0.35210</td>\n",
       "      <td>0.00146</td>\n",
       "    </tr>\n",
       "    <tr>\n",
       "      <th>𝛾=0.15</th>\n",
       "      <td>0.69778</td>\n",
       "      <td>0.00000</td>\n",
       "      <td>0.00000</td>\n",
       "      <td>0.00000</td>\n",
       "      <td>0.00000</td>\n",
       "      <td>0.30222</td>\n",
       "      <td>0.00145</td>\n",
       "    </tr>\n",
       "    <tr>\n",
       "      <th>𝛾=0.2</th>\n",
       "      <td>0.72264</td>\n",
       "      <td>0.00000</td>\n",
       "      <td>0.00000</td>\n",
       "      <td>0.00000</td>\n",
       "      <td>0.00000</td>\n",
       "      <td>0.27736</td>\n",
       "      <td>0.00144</td>\n",
       "    </tr>\n",
       "  </tbody>\n",
       "</table>\n",
       "</div>"
      ],
      "text/plain": [
       "        Amazon   Apple    Ebay  Facebook  Google  Twitter  optimum_value\n",
       "𝛾=0.1  0.64790 0.00000 0.00000   0.00000 0.00000  0.35210        0.00146\n",
       "𝛾=0.15 0.69778 0.00000 0.00000   0.00000 0.00000  0.30222        0.00145\n",
       "𝛾=0.2  0.72264 0.00000 0.00000   0.00000 0.00000  0.27736        0.00144"
      ]
     },
     "execution_count": 31,
     "metadata": {},
     "output_type": "execute_result"
    }
   ],
   "source": [
    "allocation_max_returns"
   ]
  },
  {
   "cell_type": "markdown",
   "metadata": {},
   "source": [
    "Based on the result showing above, investors who have differnt risk aversion should have different allocation plan. The detailed allocation plan is demonstrated in the table above."
   ]
  },
  {
   "cell_type": "markdown",
   "metadata": {},
   "source": [
    "### c. Why are the allocations different?"
   ]
  },
  {
   "attachments": {
    "image.png": {
     "image/png": "[encoded data removed]"
    }
   },
   "cell_type": "markdown",
   "metadata": {},
   "source": [
    "#### Portfolio Optimization: Minimizing Risk - based on the overall trading days:\n",
    "![image.png](attachment:image.png)"
   ]
  },
  {
   "attachments": {
    "image.png": {
     "image/png": "[encoded data removed]"
    }
   },
   "cell_type": "markdown",
   "metadata": {},
   "source": [
    "![image.png](attachment:image.png)"
   ]
  },
  {
   "attachments": {
    "image.png": {
     "image/png": "[encoded data removed]"
    }
   },
   "cell_type": "markdown",
   "metadata": {},
   "source": [
    "#### Portfolio Optimization: Minimizing Risk - based on the last 400 trading days:\n",
    "![image.png](attachment:image.png)"
   ]
  },
  {
   "attachments": {
    "image.png": {
     "image/png": "[encoded data removed]"
    }
   },
   "cell_type": "markdown",
   "metadata": {},
   "source": [
    "![image.png](attachment:image.png)"
   ]
  },
  {
   "cell_type": "markdown",
   "metadata": {},
   "source": [
    "As you can see from the above comparison, in the strategy of minimizing risk, the return for the last 400 trading days is generally higher than the entire trading days while the risk for the last 400 trading days is overall lower than the overall trading days.<br><br>\n",
    "This means the stock in the last 400 days performed better than the overall trading days although the specific circumstances of each stock had different changes. And this is the reason why the allocation changed."
   ]
  },
  {
   "attachments": {
    "image.png": {
     "image/png": "[encoded data removed]"
    }
   },
   "cell_type": "markdown",
   "metadata": {},
   "source": [
    "#### Portfolio Optimization: Maximizing Returns (or Utility) - based on the overall trading days:\n",
    "![image.png](attachment:image.png)"
   ]
  },
  {
   "attachments": {
    "image.png": {
     "image/png": "[encoded data removed]"
    }
   },
   "cell_type": "markdown",
   "metadata": {},
   "source": [
    "#### for 𝛾=0.1:\n",
    "![image.png](attachment:image.png)"
   ]
  },
  {
   "attachments": {
    "image.png": {
     "image/png": "[encoded data removed]"
    }
   },
   "cell_type": "markdown",
   "metadata": {},
   "source": [
    "#### Portfolio Optimization: Maximizing Returns (or Utility) - based on the last 400 trading days:\n",
    "![image.png](attachment:image.png)"
   ]
  },
  {
   "attachments": {
    "image.png": {
     "image/png": "[encoded data removed]"
    }
   },
   "cell_type": "markdown",
   "metadata": {},
   "source": [
    "#### for 𝛾=0.1:\n",
    "![image.png](attachment:image.png)"
   ]
  },
  {
   "cell_type": "markdown",
   "metadata": {},
   "source": [
    "Both the return and risk for the the last 400 trading days are less than the overall trading days. This means the stock market of the 6 companies performed more stable in the last 400 trading days. These stocks are overall performed less risky but also less profitable.<br><br>\n",
    "For the analysis on the overall trading days, the suggested allocation is to invest Amazon only with the risk aversion range from 0.1 to 0.2. But for the analysis on the last 400 trading days, the suggested allocation is to invest Amazon and Twitter and the weight for each are differnt in differnt risk aversion levels. This change is caused by the companies' stock market change. These stocks are overall performed less risky but also less profitable."
   ]
  }
 ],
 "metadata": {
  "kernelspec": {
   "display_name": "Python 3",
   "language": "python",
   "name": "python3"
  },
  "language_info": {
   "codemirror_mode": {
    "name": "ipython",
    "version": 3
   },
   "file_extension": ".py",
   "mimetype": "text/x-python",
   "name": "python",
   "nbconvert_exporter": "python",
   "pygments_lexer": "ipython3",
   "version": "3.6.3"
  }
 },
 "nbformat": 4,
 "nbformat_minor": 2
}
